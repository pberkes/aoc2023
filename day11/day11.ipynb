{
 "cells": [
  {
   "cell_type": "code",
   "execution_count": 60,
   "id": "6a0bf45e",
   "metadata": {
    "ExecuteTime": {
     "end_time": "2022-12-02T05:18:22.341580Z",
     "start_time": "2022-12-02T05:18:21.400288Z"
    }
   },
   "outputs": [],
   "source": [
    "%matplotlib inline\n",
    "\n",
    "import matplotlib.pyplot as plt\n",
    "import networkx as nx\n",
    "import numpy as np"
   ]
  },
  {
   "cell_type": "code",
   "execution_count": 2,
   "id": "5b1cb3ac",
   "metadata": {},
   "outputs": [],
   "source": [
    "test = \"\"\"\n",
    "...#......\n",
    ".......#..\n",
    "#.........\n",
    "..........\n",
    "......#...\n",
    ".#........\n",
    ".........#\n",
    "..........\n",
    ".......#..\n",
    "#...#.....\n",
    "\"\"\".strip()"
   ]
  },
  {
   "cell_type": "code",
   "execution_count": 3,
   "id": "e63b6ffe",
   "metadata": {
    "ExecuteTime": {
     "end_time": "2022-12-02T05:18:39.902760Z",
     "start_time": "2022-12-02T05:18:39.354573Z"
    }
   },
   "outputs": [],
   "source": [
    "with open('input.txt', 'r') as f:\n",
    "    input_ = f.read().strip()"
   ]
  },
  {
   "cell_type": "code",
   "execution_count": 57,
   "id": "6b3f7aa6",
   "metadata": {},
   "outputs": [],
   "source": [
    "def print_map(map_):\n",
    "    for row in map_:\n",
    "        print(''.join(row))"
   ]
  },
  {
   "cell_type": "markdown",
   "id": "533d4b56",
   "metadata": {},
   "source": [
    "# Part 1"
   ]
  },
  {
   "cell_type": "code",
   "execution_count": 253,
   "id": "2b25dfa5",
   "metadata": {},
   "outputs": [],
   "source": [
    "rows = input_.splitlines()\n",
    "map_ = np.array([list(r) for r in rows])"
   ]
  },
  {
   "cell_type": "code",
   "execution_count": 254,
   "id": "49302664",
   "metadata": {},
   "outputs": [],
   "source": [
    "def idx_no_galaxies(map_, axis):\n",
    "    n_galaxies = (map_ == '#').sum(axis=axis)\n",
    "    no_galaxies = set(np.where(n_galaxies == 0)[0])\n",
    "    return no_galaxies"
   ]
  },
  {
   "cell_type": "code",
   "execution_count": 255,
   "id": "2e86d2e7",
   "metadata": {},
   "outputs": [
    {
     "data": {
      "text/plain": [
       "({51, 77, 113, 114, 123, 128}, {56, 73, 86, 92, 110})"
      ]
     },
     "execution_count": 255,
     "metadata": {},
     "output_type": "execute_result"
    }
   ],
   "source": [
    "col_no_galaxies = idx_no_galaxies(map_, axis=0)\n",
    "row_no_galaxies = idx_no_galaxies(map_, axis=1)\n",
    "col_no_galaxies, row_no_galaxies"
   ]
  },
  {
   "cell_type": "code",
   "execution_count": 258,
   "id": "1d4d70b6",
   "metadata": {},
   "outputs": [
    {
     "name": "stdout",
     "output_type": "stream",
     "text": [
      "[0, 1, 2, 3, 4, 5, 6, 7, 8, 9, 10, 11, 12, 13, 14, 15, 16, 17, 18, 19, 20, 21, 22, 23, 24, 25, 26, 27, 28, 29, 30, 31, 32, 33, 34, 35, 36, 37, 38, 39, 40, 41, 42, 43, 44, 45, 46, 47, 48, 49, 50, 51, 51, 52, 53, 54, 55, 56, 57, 58, 59, 60, 61, 62, 63, 64, 65, 66, 67, 68, 69, 70, 71, 72, 73, 74, 75, 76, 77, 77, 78, 79, 80, 81, 82, 83, 84, 85, 86, 87, 88, 89, 90, 91, 92, 93, 94, 95, 96, 97, 98, 99, 100, 101, 102, 103, 104, 105, 106, 107, 108, 109, 110, 111, 112, 113, 113, 114, 114, 115, 116, 117, 118, 119, 120, 121, 122, 123, 123, 124, 125, 126, 127, 128, 128, 129, 130, 131, 132, 133, 134, 135, 136, 137, 138, 139]\n"
     ]
    }
   ],
   "source": [
    "col_idx = []\n",
    "for c in range(map_.shape[1]):\n",
    "    col_idx.append(c)\n",
    "    if c in col_no_galaxies:\n",
    "        col_idx.append(c)\n",
    "print(col_idx)"
   ]
  },
  {
   "cell_type": "code",
   "execution_count": 259,
   "id": "712f7c76",
   "metadata": {},
   "outputs": [
    {
     "name": "stdout",
     "output_type": "stream",
     "text": [
      "[0, 1, 2, 3, 4, 5, 6, 7, 8, 9, 10, 11, 12, 13, 14, 15, 16, 17, 18, 19, 20, 21, 22, 23, 24, 25, 26, 27, 28, 29, 30, 31, 32, 33, 34, 35, 36, 37, 38, 39, 40, 41, 42, 43, 44, 45, 46, 47, 48, 49, 50, 51, 52, 53, 54, 55, 56, 56, 57, 58, 59, 60, 61, 62, 63, 64, 65, 66, 67, 68, 69, 70, 71, 72, 73, 73, 74, 75, 76, 77, 78, 79, 80, 81, 82, 83, 84, 85, 86, 86, 87, 88, 89, 90, 91, 92, 92, 93, 94, 95, 96, 97, 98, 99, 100, 101, 102, 103, 104, 105, 106, 107, 108, 109, 110, 110, 111, 112, 113, 114, 115, 116, 117, 118, 119, 120, 121, 122, 123, 124, 125, 126, 127, 128, 129, 130, 131, 132, 133, 134, 135, 136, 137, 138, 139]\n"
     ]
    }
   ],
   "source": [
    "row_idx = []\n",
    "for r in range(map_.shape[0]):\n",
    "    row_idx.append(r)\n",
    "    if r in row_no_galaxies:\n",
    "        row_idx.append(r)\n",
    "print(row_idx)"
   ]
  },
  {
   "cell_type": "code",
   "execution_count": 261,
   "id": "a61f4760",
   "metadata": {
    "scrolled": false
   },
   "outputs": [],
   "source": [
    "# Expanded map\n",
    "exp_map = map_[:, col_idx][row_idx]\n",
    "#print_map(exp_map)"
   ]
  },
  {
   "cell_type": "code",
   "execution_count": 262,
   "id": "37462ceb",
   "metadata": {},
   "outputs": [],
   "source": [
    "pos_galaxies = np.dstack(np.where(exp_map == '#'))[0,:,:]"
   ]
  },
  {
   "cell_type": "code",
   "execution_count": 263,
   "id": "68fbc20d",
   "metadata": {},
   "outputs": [
    {
     "data": {
      "text/plain": [
       "9545480"
      ]
     },
     "execution_count": 263,
     "metadata": {},
     "output_type": "execute_result"
    }
   ],
   "source": [
    "n_galaxies = pos_galaxies.shape[0]\n",
    "dist = {}\n",
    "for i in range(n_galaxies - 1):\n",
    "    for j in range(i+1, n_galaxies):\n",
    "        pos_i = tuple(pos_galaxies[i, :])\n",
    "        pos_j = tuple(pos_galaxies[j, :])\n",
    "        dist[(i, j)] = abs(pos_i[0] - pos_j[0]) + abs(pos_i[1] - pos_j[1])\n",
    "sum(dist.values())"
   ]
  },
  {
   "cell_type": "markdown",
   "id": "984acafe",
   "metadata": {},
   "source": [
    "# Part 2"
   ]
  },
  {
   "cell_type": "code",
   "execution_count": 264,
   "id": "d6d7e2f5",
   "metadata": {},
   "outputs": [],
   "source": [
    "rows = input_.splitlines()\n",
    "map_ = np.array([list(r) for r in rows])"
   ]
  },
  {
   "cell_type": "code",
   "execution_count": 267,
   "id": "a881a19b",
   "metadata": {},
   "outputs": [
    {
     "data": {
      "text/plain": [
       "({51, 77, 113, 114, 123, 128}, {56, 73, 86, 92, 110})"
      ]
     },
     "execution_count": 267,
     "metadata": {},
     "output_type": "execute_result"
    }
   ],
   "source": [
    "col_no_galaxies = idx_no_galaxies(map_, axis=0)\n",
    "row_no_galaxies = idx_no_galaxies(map_, axis=1)\n",
    "col_no_galaxies, row_no_galaxies"
   ]
  },
  {
   "cell_type": "code",
   "execution_count": 268,
   "id": "152a8f72",
   "metadata": {},
   "outputs": [],
   "source": [
    "pos_galaxies = np.dstack(np.where(map_ == '#'))[0,:,:]\n",
    "#pos_galaxies"
   ]
  },
  {
   "cell_type": "code",
   "execution_count": 269,
   "id": "71f5b63f",
   "metadata": {},
   "outputs": [],
   "source": [
    "expansion = 1_000_000\n",
    "\n",
    "n_galaxies = pos_galaxies.shape[0]\n",
    "dist = {}\n",
    "for i in range(n_galaxies - 1):\n",
    "    for j in range(i+1, n_galaxies):\n",
    "        pos_i = pos_galaxies[i, :]\n",
    "        pos_j = pos_galaxies[j, :]\n",
    "\n",
    "        d = 0\n",
    "        start = min(pos_i[0], pos_j[0])\n",
    "        end = max(pos_i[0], pos_j[0])\n",
    "        for r in range(start + 1, end + 1):\n",
    "            if r in row_no_galaxies:\n",
    "                d += expansion\n",
    "            else:\n",
    "                d += 1\n",
    "\n",
    "        start = min(pos_i[1], pos_j[1])\n",
    "        end = max(pos_i[1], pos_j[1])\n",
    "        for c in range(start + 1, end + 1):\n",
    "            if c in col_no_galaxies:\n",
    "                d += expansion\n",
    "            else:\n",
    "                d += 1\n",
    "\n",
    "        dist[(i, j)] = d"
   ]
  },
  {
   "cell_type": "code",
   "execution_count": 270,
   "id": "355e407f",
   "metadata": {},
   "outputs": [
    {
     "data": {
      "text/plain": [
       "406725732046"
      ]
     },
     "execution_count": 270,
     "metadata": {},
     "output_type": "execute_result"
    }
   ],
   "source": [
    "sum(dist.values())"
   ]
  },
  {
   "cell_type": "code",
   "execution_count": null,
   "id": "ecb0639f",
   "metadata": {},
   "outputs": [],
   "source": []
  },
  {
   "cell_type": "code",
   "execution_count": null,
   "id": "7b226f93",
   "metadata": {},
   "outputs": [],
   "source": []
  }
 ],
 "metadata": {
  "hide_input": false,
  "kernelspec": {
   "display_name": "Python 3 (ipykernel)",
   "language": "python",
   "name": "python3"
  },
  "language_info": {
   "codemirror_mode": {
    "name": "ipython",
    "version": 3
   },
   "file_extension": ".py",
   "mimetype": "text/x-python",
   "name": "python",
   "nbconvert_exporter": "python",
   "pygments_lexer": "ipython3",
   "version": "3.11.3"
  },
  "toc": {
   "nav_menu": {
    "height": "12px",
    "width": "252px"
   },
   "navigate_menu": true,
   "number_sections": true,
   "sideBar": true,
   "threshold": 4,
   "toc_cell": false,
   "toc_section_display": "block",
   "toc_window_display": false
  }
 },
 "nbformat": 4,
 "nbformat_minor": 5
}
