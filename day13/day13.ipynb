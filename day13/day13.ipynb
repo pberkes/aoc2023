{
 "cells": [
  {
   "cell_type": "code",
   "execution_count": 7,
   "id": "6a0bf45e",
   "metadata": {
    "ExecuteTime": {
     "end_time": "2022-12-02T05:18:22.341580Z",
     "start_time": "2022-12-02T05:18:21.400288Z"
    }
   },
   "outputs": [],
   "source": [
    "%matplotlib inline\n",
    "\n",
    "import re\n",
    "\n",
    "import matplotlib.pyplot as plt\n",
    "import networkx as nx\n",
    "import numpy as np\n",
    "\n",
    "def print_map(map_):\n",
    "    for row in map_:\n",
    "        print(''.join(row))"
   ]
  },
  {
   "cell_type": "code",
   "execution_count": 8,
   "id": "5b1cb3ac",
   "metadata": {},
   "outputs": [],
   "source": [
    "test = \"\"\"\n",
    "#.##..##.\n",
    "..#.##.#.\n",
    "##......#\n",
    "##......#\n",
    "..#.##.#.\n",
    "..##..##.\n",
    "#.#.##.#.\n",
    "\n",
    "#...##..#\n",
    "#....#..#\n",
    "..##..###\n",
    "#####.##.\n",
    "#####.##.\n",
    "..##..###\n",
    "#....#..#\n",
    "\"\"\".strip()"
   ]
  },
  {
   "cell_type": "code",
   "execution_count": 9,
   "id": "e63b6ffe",
   "metadata": {
    "ExecuteTime": {
     "end_time": "2022-12-02T05:18:39.902760Z",
     "start_time": "2022-12-02T05:18:39.354573Z"
    }
   },
   "outputs": [],
   "source": [
    "with open('input.txt', 'r') as f:\n",
    "    input_ = f.read().strip()"
   ]
  },
  {
   "cell_type": "markdown",
   "id": "533d4b56",
   "metadata": {},
   "source": [
    "# Part 1"
   ]
  },
  {
   "cell_type": "code",
   "execution_count": 93,
   "id": "b337af24",
   "metadata": {},
   "outputs": [],
   "source": [
    "def map_array(map_txt):\n",
    "    rows = map_txt.splitlines()\n",
    "    map_ = np.array([list(r) for r in rows])\n",
    "    return map_"
   ]
  },
  {
   "cell_type": "code",
   "execution_count": 94,
   "id": "2b25dfa5",
   "metadata": {},
   "outputs": [],
   "source": []
  },
  {
   "cell_type": "code",
   "execution_count": 147,
   "id": "243ea2d4",
   "metadata": {},
   "outputs": [],
   "source": [
    "def is_mirror(m, pos, columns=True):\n",
    "    if not columns:\n",
    "        m = m.T\n",
    "    w = m.shape[1]\n",
    "    l = min(w-pos, pos)\n",
    "    return np.all(m[:,pos-l:pos] == np.fliplr(m[:,pos:pos+l]))"
   ]
  },
  {
   "cell_type": "code",
   "execution_count": 138,
   "id": "fc938df6",
   "metadata": {},
   "outputs": [],
   "source": [
    "def find_mirror(m):\n",
    "    for c in range(1, m.shape[1]):\n",
    "        if is_mirror(m, c, columns=True):\n",
    "            return c\n",
    "\n",
    "    for r in range(1, m.shape[0]):\n",
    "        if is_mirror(m, r, columns=False):\n",
    "            return 100 * r\n",
    "    \n",
    "    return 1000000000000000"
   ]
  },
  {
   "cell_type": "code",
   "execution_count": 143,
   "id": "a7525960",
   "metadata": {},
   "outputs": [
    {
     "data": {
      "text/plain": [
       "405"
      ]
     },
     "execution_count": 143,
     "metadata": {},
     "output_type": "execute_result"
    }
   ],
   "source": [
    "maps_txt = test.split('\\n\\n')\n",
    "maps = [map_array(map_txt) for map_txt in maps_txt]\n",
    "\n",
    "tot = 0\n",
    "for m in maps:\n",
    "    tot += find_mirror(m)\n",
    "tot"
   ]
  },
  {
   "cell_type": "code",
   "execution_count": 144,
   "id": "1d4d70b6",
   "metadata": {},
   "outputs": [
    {
     "data": {
      "text/plain": [
       "35538"
      ]
     },
     "execution_count": 144,
     "metadata": {},
     "output_type": "execute_result"
    }
   ],
   "source": [
    "maps_txt = input_.split('\\n\\n')\n",
    "maps = [map_array(map_txt) for map_txt in maps_txt]\n",
    "\n",
    "tot = 0\n",
    "for m in maps:\n",
    "    tot += find_mirror(m)\n",
    "tot"
   ]
  },
  {
   "cell_type": "code",
   "execution_count": null,
   "id": "712f7c76",
   "metadata": {},
   "outputs": [],
   "source": []
  },
  {
   "cell_type": "markdown",
   "id": "984acafe",
   "metadata": {},
   "source": [
    "# Part 2"
   ]
  },
  {
   "cell_type": "code",
   "execution_count": 176,
   "id": "752e3b65",
   "metadata": {},
   "outputs": [],
   "source": [
    "def is_mirror(m, pos, columns=True):\n",
    "    if not columns:\n",
    "        m = m.T\n",
    "    w = m.shape[1]\n",
    "    l = min(w-pos, pos)\n",
    "    return np.sum(m[:,pos-l:pos] != np.fliplr(m[:,pos:pos+l])) == 1"
   ]
  },
  {
   "cell_type": "code",
   "execution_count": 178,
   "id": "ee900f34",
   "metadata": {},
   "outputs": [
    {
     "data": {
      "text/plain": [
       "400"
      ]
     },
     "execution_count": 178,
     "metadata": {},
     "output_type": "execute_result"
    }
   ],
   "source": [
    "maps_txt = test.split('\\n\\n')\n",
    "maps = [map_array(map_txt) for map_txt in maps_txt]\n",
    "\n",
    "tot = 0\n",
    "for m in maps:\n",
    "    tot += find_mirror(m)\n",
    "tot"
   ]
  },
  {
   "cell_type": "code",
   "execution_count": 180,
   "id": "f943f7f4",
   "metadata": {},
   "outputs": [
    {
     "data": {
      "text/plain": [
       "30442"
      ]
     },
     "execution_count": 180,
     "metadata": {},
     "output_type": "execute_result"
    }
   ],
   "source": [
    "maps_txt = input_.split('\\n\\n')\n",
    "maps = [map_array(map_txt) for map_txt in maps_txt]\n",
    "\n",
    "tot = 0\n",
    "for m in maps:\n",
    "    tot += find_mirror(m)\n",
    "tot"
   ]
  },
  {
   "cell_type": "code",
   "execution_count": null,
   "id": "f88ecb99",
   "metadata": {},
   "outputs": [],
   "source": []
  }
 ],
 "metadata": {
  "hide_input": false,
  "kernelspec": {
   "display_name": "Python 3 (ipykernel)",
   "language": "python",
   "name": "python3"
  },
  "language_info": {
   "codemirror_mode": {
    "name": "ipython",
    "version": 3
   },
   "file_extension": ".py",
   "mimetype": "text/x-python",
   "name": "python",
   "nbconvert_exporter": "python",
   "pygments_lexer": "ipython3",
   "version": "3.11.3"
  },
  "toc": {
   "nav_menu": {
    "height": "12px",
    "width": "252px"
   },
   "navigate_menu": true,
   "number_sections": true,
   "sideBar": true,
   "threshold": 4,
   "toc_cell": false,
   "toc_section_display": "block",
   "toc_window_display": false
  }
 },
 "nbformat": 4,
 "nbformat_minor": 5
}
