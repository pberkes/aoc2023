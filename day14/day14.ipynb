{
 "cells": [
  {
   "cell_type": "code",
   "execution_count": 1,
   "id": "6a0bf45e",
   "metadata": {
    "ExecuteTime": {
     "end_time": "2022-12-02T05:18:22.341580Z",
     "start_time": "2022-12-02T05:18:21.400288Z"
    }
   },
   "outputs": [],
   "source": [
    "%matplotlib inline\n",
    "\n",
    "import re\n",
    "\n",
    "import matplotlib.pyplot as plt\n",
    "import networkx as nx\n",
    "import numpy as np\n",
    "\n",
    "        \n",
    "def map_array(map_txt):\n",
    "    rows = map_txt.splitlines()\n",
    "    map_ = np.array([list(r) for r in rows])\n",
    "    return map_\n",
    "\n",
    "\n",
    "def print_map(map_):\n",
    "    for row in map_:\n",
    "        print(''.join(row))"
   ]
  },
  {
   "cell_type": "code",
   "execution_count": 2,
   "id": "5b1cb3ac",
   "metadata": {},
   "outputs": [],
   "source": [
    "test = \"\"\"\n",
    "O....#....\n",
    "O.OO#....#\n",
    ".....##...\n",
    "OO.#O....O\n",
    ".O.....O#.\n",
    "O.#..O.#.#\n",
    "..O..#O..O\n",
    ".......O..\n",
    "#....###..\n",
    "#OO..#....\n",
    "\"\"\".strip()"
   ]
  },
  {
   "cell_type": "code",
   "execution_count": 3,
   "id": "e63b6ffe",
   "metadata": {
    "ExecuteTime": {
     "end_time": "2022-12-02T05:18:39.902760Z",
     "start_time": "2022-12-02T05:18:39.354573Z"
    }
   },
   "outputs": [],
   "source": [
    "with open('input.txt', 'r') as f:\n",
    "    input_ = f.read().strip()"
   ]
  },
  {
   "cell_type": "markdown",
   "id": "533d4b56",
   "metadata": {},
   "source": [
    "# Part 1"
   ]
  },
  {
   "cell_type": "code",
   "execution_count": 13,
   "id": "2b25dfa5",
   "metadata": {},
   "outputs": [],
   "source": [
    "map_ = map_array(test)"
   ]
  },
  {
   "cell_type": "code",
   "execution_count": 17,
   "id": "c2ea8660",
   "metadata": {},
   "outputs": [
    {
     "data": {
      "text/plain": [
       "(array([0, 1, 1, 2, 2, 3, 4, 5, 5, 5, 6, 8, 8, 8, 8, 9, 9]),\n",
       " array([5, 4, 9, 5, 6, 3, 8, 2, 7, 9, 5, 0, 5, 6, 7, 0, 5]))"
      ]
     },
     "execution_count": 17,
     "metadata": {},
     "output_type": "execute_result"
    }
   ],
   "source": [
    "np.where(map_ == '#')"
   ]
  },
  {
   "cell_type": "code",
   "execution_count": 93,
   "id": "3766cde5",
   "metadata": {},
   "outputs": [],
   "source": [
    "def northen_square(map_):\n",
    "    h = map_.shape[0]\n",
    "    last_square_row = np.zeros_like(map_, dtype=int)\n",
    "    for r in range(h):\n",
    "        if r > 0:\n",
    "            last_square_row[r,:] = last_square_row[r-1,:]\n",
    "        squares = np.nonzero(map_[r,:] == '#')\n",
    "        last_square_row[r, squares] = r + 1\n",
    "    return last_square_row"
   ]
  },
  {
   "cell_type": "code",
   "execution_count": 94,
   "id": "a05a3d81",
   "metadata": {},
   "outputs": [
    {
     "data": {
      "text/plain": [
       "136"
      ]
     },
     "execution_count": 94,
     "metadata": {},
     "output_type": "execute_result"
    }
   ],
   "source": [
    "# map with the row index of the northmost square per column (cumulative)\n",
    "map_ = map_array(test)\n",
    "h = map_.shape[0]\n",
    "cr, cc = np.where(map_ == 'O')\n",
    "last_square_row = northen_square(map_)\n",
    "tot = 0\n",
    "for r, c in zip(cr, cc):\n",
    "    last_square_r = last_square_row[r, c]\n",
    "    weight = h - last_square_r - (map_[last_square_r:r, c] == 'O').sum()\n",
    "    tot += weight\n",
    "tot"
   ]
  },
  {
   "cell_type": "code",
   "execution_count": 95,
   "id": "02c03462",
   "metadata": {},
   "outputs": [
    {
     "data": {
      "text/plain": [
       "103333"
      ]
     },
     "execution_count": 95,
     "metadata": {},
     "output_type": "execute_result"
    }
   ],
   "source": [
    "# map with the row index of the northmost square per column (cumulative)\n",
    "map_ = map_array(input_)\n",
    "h = map_.shape[0]\n",
    "cr, cc = np.where(map_ == 'O')\n",
    "last_square_row = northen_square(map_)\n",
    "tot = 0\n",
    "for r, c in zip(cr, cc):\n",
    "    last_square_r = last_square_row[r, c]\n",
    "    weight = h - last_square_r - (map_[last_square_r:r, c] == 'O').sum()\n",
    "    tot += weight\n",
    "tot"
   ]
  },
  {
   "cell_type": "markdown",
   "id": "984acafe",
   "metadata": {},
   "source": [
    "# Part 2"
   ]
  },
  {
   "cell_type": "code",
   "execution_count": 4,
   "id": "0b19c165",
   "metadata": {},
   "outputs": [],
   "source": [
    "def new_map(map_, circle_pos):\n",
    "    square_map = map_.copy()\n",
    "    square_map[square_map == 'O'] = '.'\n",
    "    for r, c in circle_pos:\n",
    "        square_map[r, c] = 'O'\n",
    "    return square_map"
   ]
  },
  {
   "cell_type": "code",
   "execution_count": 5,
   "id": "6e496ee9",
   "metadata": {},
   "outputs": [],
   "source": [
    "# Rolling maps\n",
    "\n",
    "def northern_square(map_):\n",
    "    h = map_.shape[0]\n",
    "    last_square_row = np.zeros_like(map_, dtype=int)\n",
    "    for r in range(h):\n",
    "        if r > 0:\n",
    "            last_square_row[r,:] = last_square_row[r-1,:]\n",
    "        squares = np.nonzero(map_[r,:] == '#')\n",
    "        last_square_row[r, squares] = r + 1\n",
    "    return last_square_row\n",
    "\n",
    "\n",
    "def southern_square(map_):\n",
    "    h = map_.shape[0]\n",
    "    last_square_row = np.zeros_like(map_, dtype=int) + h - 1\n",
    "    for r in range(h-1, -1, -1):\n",
    "        if r < h-1:\n",
    "            last_square_row[r,:] = last_square_row[r+1,:]\n",
    "        squares = np.nonzero(map_[r,:] == '#')\n",
    "        last_square_row[r, squares] = r - 1\n",
    "    return last_square_row\n",
    "\n",
    "\n",
    "def eastern_square(map_):\n",
    "    w = map_.shape[1]\n",
    "    last_square_col = np.zeros_like(map_, dtype=int) + w - 1\n",
    "    for c in range(w-1, -1, -1):\n",
    "        if c < w-1:\n",
    "            last_square_col[:,c] = last_square_col[:,c+1]\n",
    "        squares = np.nonzero(map_[:, c] == '#')\n",
    "        last_square_col[squares, c] = c - 1\n",
    "    return last_square_col\n",
    "\n",
    "\n",
    "def western_square(map_):\n",
    "    w = map_.shape[1]\n",
    "    last_square_col = np.zeros_like(map_, dtype=int)\n",
    "    for c in range(w):\n",
    "        if c > 0:\n",
    "            last_square_col[:,c] = last_square_col[:,c-1]\n",
    "        squares = np.nonzero(map_[:, c] == '#')\n",
    "        last_square_col[squares, c] = c + 1\n",
    "    return last_square_col"
   ]
  },
  {
   "cell_type": "code",
   "execution_count": 6,
   "id": "d6d7e2f5",
   "metadata": {
    "scrolled": true
   },
   "outputs": [],
   "source": [
    "map_orig = map_array(input_)\n",
    "h = map_orig.shape[0]\n",
    "w = map_orig.shape[1]\n",
    "\n",
    "north_square_row = northern_square(map_orig)\n",
    "east_square_col = eastern_square(map_orig)\n",
    "south_square_row = southern_square(map_orig)\n",
    "west_square_col = western_square(map_orig)\n",
    "circle_pos = list(zip(*np.where(map_orig == 'O')))\n",
    "\n",
    "map_ = new_map(map_orig, circle_pos)\n",
    "last_map = map_.copy()\n",
    "map_history = []\n",
    "pos_history = []\n",
    "\n",
    "n_cycles = 0\n",
    "while n_cycles < 1:\n",
    "    # roll north\n",
    "    new_circle_pos = []\n",
    "    for r, c in circle_pos:\n",
    "        new_c = c\n",
    "        square_r = north_square_row[r, c]\n",
    "        new_r = square_r + (map_[square_r:r, c] == 'O').sum()\n",
    "        new_circle_pos.append((new_r, new_c))\n",
    "\n",
    "    circle_pos = new_circle_pos\n",
    "    map_ = new_map(map_orig, circle_pos)\n",
    "    #print_map(map_)\n",
    "    #print((map_ == 'O').sum())\n",
    "\n",
    "    # roll west\n",
    "    new_circle_pos = []\n",
    "    for r, c in circle_pos:\n",
    "        new_r = r\n",
    "        square_c = west_square_col[r, c]\n",
    "        new_c = square_c + (map_[r, square_c:c] == 'O').sum()\n",
    "        new_circle_pos.append((new_r, new_c))\n",
    "\n",
    "    circle_pos = new_circle_pos\n",
    "    map_ = new_map(map_orig, circle_pos)\n",
    "    #print_map(map_)\n",
    "    #print((map_ == 'O').sum())\n",
    "\n",
    "    # roll south\n",
    "    new_circle_pos = []\n",
    "    for r, c in circle_pos:\n",
    "        new_c = c\n",
    "        square_r = south_square_row[r, c]\n",
    "        new_r = square_r - (map_[r+1:square_r+1, c] == 'O').sum()\n",
    "        new_circle_pos.append((new_r, new_c))\n",
    "\n",
    "    circle_pos = new_circle_pos\n",
    "    map_ = new_map(map_orig, circle_pos)\n",
    "    #print_map(map_)\n",
    "    #print((map_ == 'O').sum())\n",
    "\n",
    "    # roll east\n",
    "    new_circle_pos = []\n",
    "    for r, c in circle_pos:\n",
    "        new_r = r\n",
    "        square_c = east_square_col[r, c]\n",
    "        new_c = square_c - (map_[r, c+1:square_c+1] == 'O').sum()\n",
    "        new_circle_pos.append((new_r, new_c))\n",
    "\n",
    "    circle_pos = new_circle_pos\n",
    "    map_ = new_map(map_orig, circle_pos)\n",
    "    #print_map(map_)\n",
    "    #print((map_ == 'O').sum())\n",
    "\n",
    "    # Detect cycle\n",
    "    n_cycles = 0\n",
    "    for m in map_history:\n",
    "        if np.all(map_ == m):\n",
    "            n_cycles += 1\n",
    "    \n",
    "    map_history.append(map_)\n",
    "    pos_history.append(circle_pos)\n"
   ]
  },
  {
   "cell_type": "code",
   "execution_count": 16,
   "id": "848cb3c2",
   "metadata": {},
   "outputs": [],
   "source": [
    "start_idx = -1\n",
    "for idx, n in enumerate(map_history[:-1]):\n",
    "    is_cycle = np.all(map_history[-1] == n)\n",
    "    if is_cycle:\n",
    "        start_idx = idx"
   ]
  },
  {
   "cell_type": "code",
   "execution_count": 17,
   "id": "28f717bd",
   "metadata": {},
   "outputs": [
    {
     "data": {
      "text/plain": [
       "36"
      ]
     },
     "execution_count": 17,
     "metadata": {},
     "output_type": "execute_result"
    }
   ],
   "source": [
    "cycle_len = len(map_history) - start_idx - 1\n",
    "cycle_len"
   ]
  },
  {
   "cell_type": "code",
   "execution_count": 18,
   "id": "d44305c7",
   "metadata": {},
   "outputs": [
    {
     "data": {
      "text/plain": [
       "99"
      ]
     },
     "execution_count": 18,
     "metadata": {},
     "output_type": "execute_result"
    }
   ],
   "source": [
    "(start_idx + 1)"
   ]
  },
  {
   "cell_type": "code",
   "execution_count": 19,
   "id": "c2f7b382",
   "metadata": {},
   "outputs": [
    {
     "data": {
      "text/plain": [
       "1"
      ]
     },
     "execution_count": 19,
     "metadata": {},
     "output_type": "execute_result"
    }
   ],
   "source": [
    "far_away_idx = (1000000000 - (start_idx + 1)) % (len(map_history) - start_idx - 1)\n",
    "far_away_idx"
   ]
  },
  {
   "cell_type": "code",
   "execution_count": 20,
   "id": "17e7bfe0",
   "metadata": {},
   "outputs": [
    {
     "data": {
      "text/plain": [
       "97241"
      ]
     },
     "execution_count": 20,
     "metadata": {},
     "output_type": "execute_result"
    }
   ],
   "source": [
    "tot = 0\n",
    "for r, c in pos_history[start_idx + far_away_idx]:\n",
    "    weight = h - r\n",
    "    tot += weight\n",
    "tot"
   ]
  },
  {
   "cell_type": "code",
   "execution_count": null,
   "id": "932486b3",
   "metadata": {},
   "outputs": [],
   "source": []
  }
 ],
 "metadata": {
  "hide_input": false,
  "kernelspec": {
   "display_name": "Python 3 (ipykernel)",
   "language": "python",
   "name": "python3"
  },
  "language_info": {
   "codemirror_mode": {
    "name": "ipython",
    "version": 3
   },
   "file_extension": ".py",
   "mimetype": "text/x-python",
   "name": "python",
   "nbconvert_exporter": "python",
   "pygments_lexer": "ipython3",
   "version": "3.11.3"
  },
  "toc": {
   "nav_menu": {
    "height": "12px",
    "width": "252px"
   },
   "navigate_menu": true,
   "number_sections": true,
   "sideBar": true,
   "threshold": 4,
   "toc_cell": false,
   "toc_section_display": "block",
   "toc_window_display": false
  }
 },
 "nbformat": 4,
 "nbformat_minor": 5
}
