{
 "cells": [
  {
   "cell_type": "code",
   "execution_count": 1,
   "id": "6a0bf45e",
   "metadata": {
    "ExecuteTime": {
     "end_time": "2022-12-02T05:18:22.341580Z",
     "start_time": "2022-12-02T05:18:21.400288Z"
    }
   },
   "outputs": [],
   "source": [
    "%matplotlib inline\n",
    "\n",
    "import re\n",
    "\n",
    "import matplotlib.pyplot as plt\n",
    "import networkx as nx\n",
    "import numpy as np\n",
    "\n",
    "\n",
    "def map_array(map_txt):\n",
    "    rows = map_txt.splitlines()\n",
    "    map_ = np.array([list(r) for r in rows])\n",
    "    return map_\n",
    "\n",
    "\n",
    "def print_map(map_):\n",
    "    for row in map_:\n",
    "        print(''.join(row))\n"
   ]
  },
  {
   "cell_type": "code",
   "execution_count": 1,
   "id": "5b1cb3ac",
   "metadata": {},
   "outputs": [],
   "source": [
    "test = \"\"\"\n",
    "HASH\n",
    "\"\"\".strip()"
   ]
  },
  {
   "cell_type": "code",
   "execution_count": 6,
   "id": "e63b6ffe",
   "metadata": {
    "ExecuteTime": {
     "end_time": "2022-12-02T05:18:39.902760Z",
     "start_time": "2022-12-02T05:18:39.354573Z"
    }
   },
   "outputs": [],
   "source": [
    "with open('input.txt', 'r') as f:\n",
    "    input_ = f.read().strip()"
   ]
  },
  {
   "cell_type": "markdown",
   "id": "533d4b56",
   "metadata": {},
   "source": [
    "# Part 1"
   ]
  },
  {
   "cell_type": "code",
   "execution_count": 3,
   "id": "533ef26f",
   "metadata": {},
   "outputs": [],
   "source": [
    "def hash(txt):\n",
    "    \"\"\"\n",
    "    Determine the ASCII code for the current character of the string.\n",
    "    Increase the current value by the ASCII code you just determined.\n",
    "    Set the current value to itself multiplied by 17.\n",
    "    Set the current value to the remainder of dividing itself by 256.\n",
    "    \"\"\"\n",
    "    tot = 0\n",
    "    for ch in txt:\n",
    "        tot = ((tot + ord(ch)) * 17) % 256\n",
    "    return tot"
   ]
  },
  {
   "cell_type": "code",
   "execution_count": 4,
   "id": "2b25dfa5",
   "metadata": {},
   "outputs": [
    {
     "data": {
      "text/plain": [
       "52"
      ]
     },
     "execution_count": 4,
     "metadata": {},
     "output_type": "execute_result"
    }
   ],
   "source": [
    "hash('HASH')"
   ]
  },
  {
   "cell_type": "code",
   "execution_count": 10,
   "id": "c2ea8660",
   "metadata": {},
   "outputs": [
    {
     "data": {
      "text/plain": [
       "506869"
      ]
     },
     "execution_count": 10,
     "metadata": {},
     "output_type": "execute_result"
    }
   ],
   "source": [
    "sum([hash(x) for x in input_.split(',')])"
   ]
  },
  {
   "cell_type": "code",
   "execution_count": null,
   "id": "1d4d70b6",
   "metadata": {},
   "outputs": [],
   "source": []
  },
  {
   "cell_type": "code",
   "execution_count": null,
   "id": "712f7c76",
   "metadata": {},
   "outputs": [],
   "source": []
  },
  {
   "cell_type": "markdown",
   "id": "984acafe",
   "metadata": {},
   "source": [
    "# Part 2"
   ]
  },
  {
   "cell_type": "code",
   "execution_count": 11,
   "id": "d6d7e2f5",
   "metadata": {},
   "outputs": [],
   "source": [
    "test = \"rn=1,cm-,qp=3,cm=2,qp-,pc=4,ot=9,ab=5,pc-,pc=6,ot=7\".strip()"
   ]
  },
  {
   "cell_type": "code",
   "execution_count": 13,
   "id": "b424a761",
   "metadata": {},
   "outputs": [],
   "source": [
    "def parse(txt):\n",
    "    parts = txt.split(',')\n",
    "    instructions = []\n",
    "    for p in parts:\n",
    "        if '-' in p:\n",
    "            instr = ('-', p[:-1])\n",
    "        else:\n",
    "            label, n = p.split('=')\n",
    "            instr = ('=', label, int(n))\n",
    "        instructions.append(instr)\n",
    "    return instructions"
   ]
  },
  {
   "cell_type": "code",
   "execution_count": 16,
   "id": "dcc23823",
   "metadata": {},
   "outputs": [],
   "source": []
  },
  {
   "cell_type": "code",
   "execution_count": 47,
   "id": "c6133a54",
   "metadata": {},
   "outputs": [],
   "source": [
    "def remove(boxes, label):\n",
    "    idx = hash(label)\n",
    "    box = boxes[idx]\n",
    "    if label in box:\n",
    "        del box[label]\n",
    "\n",
    "\n",
    "def add(boxes, label, n):\n",
    "    idx = hash(label)\n",
    "    boxes[idx][label] = n"
   ]
  },
  {
   "cell_type": "code",
   "execution_count": 49,
   "id": "14ddd169",
   "metadata": {},
   "outputs": [],
   "source": [
    "def score(boxes):\n",
    "    tot = 0\n",
    "    for box_idx, box in enumerate(boxes):\n",
    "        for item_idx, (label, n) in enumerate(box.items()):\n",
    "            tot += (box_idx + 1) * (item_idx + 1) * n\n",
    "    return tot"
   ]
  },
  {
   "cell_type": "code",
   "execution_count": 51,
   "id": "5ba487b4",
   "metadata": {},
   "outputs": [
    {
     "name": "stdout",
     "output_type": "stream",
     "text": [
      "[('Box: 0', {'rn': 1})]\n",
      "[('Box: 0', {'rn': 1})]\n",
      "[('Box: 0', {'rn': 1}), ('Box: 1', {'qp': 3})]\n",
      "[('Box: 0', {'rn': 1, 'cm': 2}), ('Box: 1', {'qp': 3})]\n",
      "[('Box: 0', {'rn': 1, 'cm': 2})]\n",
      "[('Box: 0', {'rn': 1, 'cm': 2}), ('Box: 3', {'pc': 4})]\n",
      "[('Box: 0', {'rn': 1, 'cm': 2}), ('Box: 3', {'pc': 4, 'ot': 9})]\n",
      "[('Box: 0', {'rn': 1, 'cm': 2}), ('Box: 3', {'pc': 4, 'ot': 9, 'ab': 5})]\n",
      "[('Box: 0', {'rn': 1, 'cm': 2}), ('Box: 3', {'ot': 9, 'ab': 5})]\n",
      "[('Box: 0', {'rn': 1, 'cm': 2}), ('Box: 3', {'ot': 9, 'ab': 5, 'pc': 6})]\n",
      "[('Box: 0', {'rn': 1, 'cm': 2}), ('Box: 3', {'ot': 7, 'ab': 5, 'pc': 6})]\n"
     ]
    },
    {
     "data": {
      "text/plain": [
       "145"
      ]
     },
     "execution_count": 51,
     "metadata": {},
     "output_type": "execute_result"
    }
   ],
   "source": [
    "instructions = parse(test)\n",
    "boxes = [dict() for _ in range(256)]\n",
    "for instr in instructions:\n",
    "    if instr[0] == '-':\n",
    "        remove(boxes, instr[1])\n",
    "    else:\n",
    "        add(boxes, instr[1], instr[2])\n",
    "    print([(f'Box: {idx}', box) for idx, box in enumerate(boxes) if len(box) > 0])\n",
    "score(boxes)"
   ]
  },
  {
   "cell_type": "code",
   "execution_count": 52,
   "id": "18b3f419",
   "metadata": {},
   "outputs": [
    {
     "data": {
      "text/plain": [
       "271384"
      ]
     },
     "execution_count": 52,
     "metadata": {},
     "output_type": "execute_result"
    }
   ],
   "source": [
    "instructions = parse(input_)\n",
    "boxes = [dict() for _ in range(256)]\n",
    "for instr in instructions:\n",
    "    if instr[0] == '-':\n",
    "        remove(boxes, instr[1])\n",
    "    else:\n",
    "        add(boxes, instr[1], instr[2])\n",
    "score(boxes)"
   ]
  },
  {
   "cell_type": "code",
   "execution_count": 32,
   "id": "15c5af26",
   "metadata": {},
   "outputs": [],
   "source": [
    "l.remove(2)"
   ]
  },
  {
   "cell_type": "code",
   "execution_count": 34,
   "id": "7ef7a8c3",
   "metadata": {},
   "outputs": [],
   "source": [
    "d = dict()"
   ]
  },
  {
   "cell_type": "code",
   "execution_count": 41,
   "id": "86c5e143",
   "metadata": {},
   "outputs": [],
   "source": [
    "del d['qr']"
   ]
  },
  {
   "cell_type": "code",
   "execution_count": 42,
   "id": "9ff886a7",
   "metadata": {},
   "outputs": [
    {
     "data": {
      "text/plain": [
       "{'ba': 3, 'cc': 7}"
      ]
     },
     "execution_count": 42,
     "metadata": {},
     "output_type": "execute_result"
    }
   ],
   "source": [
    "d"
   ]
  },
  {
   "cell_type": "code",
   "execution_count": null,
   "id": "121d8ec1",
   "metadata": {},
   "outputs": [],
   "source": []
  }
 ],
 "metadata": {
  "hide_input": false,
  "kernelspec": {
   "display_name": "Python 3 (ipykernel)",
   "language": "python",
   "name": "python3"
  },
  "language_info": {
   "codemirror_mode": {
    "name": "ipython",
    "version": 3
   },
   "file_extension": ".py",
   "mimetype": "text/x-python",
   "name": "python",
   "nbconvert_exporter": "python",
   "pygments_lexer": "ipython3",
   "version": "3.11.3"
  },
  "toc": {
   "nav_menu": {
    "height": "12px",
    "width": "252px"
   },
   "navigate_menu": true,
   "number_sections": true,
   "sideBar": true,
   "threshold": 4,
   "toc_cell": false,
   "toc_section_display": "block",
   "toc_window_display": false
  }
 },
 "nbformat": 4,
 "nbformat_minor": 5
}
