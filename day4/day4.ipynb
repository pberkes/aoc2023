{
 "cells": [
  {
   "cell_type": "code",
   "execution_count": 1,
   "id": "6a0bf45e",
   "metadata": {
    "ExecuteTime": {
     "end_time": "2022-12-02T05:18:22.341580Z",
     "start_time": "2022-12-02T05:18:21.400288Z"
    }
   },
   "outputs": [],
   "source": [
    "import matplotlib.pyplot as plt\n",
    "import numpy as np"
   ]
  },
  {
   "cell_type": "code",
   "execution_count": 1,
   "id": "5b1cb3ac",
   "metadata": {},
   "outputs": [],
   "source": [
    "test = \"\"\"\n",
    "Card 1: 41 48 83 86 17 | 83 86  6 31 17  9 48 53\n",
    "Card 2: 13 32 20 16 61 | 61 30 68 82 17 32 24 19\n",
    "Card 3:  1 21 53 59 44 | 69 82 63 72 16 21 14  1\n",
    "Card 4: 41 92 73 84 69 | 59 84 76 51 58  5 54 83\n",
    "Card 5: 87 83 26 28 32 | 88 30 70 12 93 22 82 36\n",
    "Card 6: 31 18 13 56 72 | 74 77 10 23 35 67 36 11\n",
    "\"\"\".strip()"
   ]
  },
  {
   "cell_type": "code",
   "execution_count": 2,
   "id": "e63b6ffe",
   "metadata": {
    "ExecuteTime": {
     "end_time": "2022-12-02T05:18:39.902760Z",
     "start_time": "2022-12-02T05:18:39.354573Z"
    }
   },
   "outputs": [],
   "source": [
    "with open('input.txt', 'r') as f:\n",
    "    input_ = f.read().strip()"
   ]
  },
  {
   "cell_type": "markdown",
   "id": "533d4b56",
   "metadata": {},
   "source": [
    "# Part 1"
   ]
  },
  {
   "cell_type": "code",
   "execution_count": 21,
   "id": "2b25dfa5",
   "metadata": {},
   "outputs": [],
   "source": [
    "def parse_row(row):\n",
    "    card_id, content = row.split(':')\n",
    "    winning_txt, numbers_txt = content.split('|')\n",
    "    winning = {int(x) for x in winning_txt.split()}\n",
    "    numbers = {int(x) for x in numbers_txt.split()}\n",
    "    return winning, numbers\n",
    "\n",
    "def value(winning, numbers):\n",
    "    n_matches = len(winning.intersection(numbers))\n",
    "    if n_matches == 0:\n",
    "        value = 0\n",
    "    else:\n",
    "        value = 2 ** (n_matches-1)\n",
    "    return value"
   ]
  },
  {
   "cell_type": "code",
   "execution_count": 22,
   "id": "298fa36a",
   "metadata": {},
   "outputs": [
    {
     "data": {
      "text/plain": [
       "13"
      ]
     },
     "execution_count": 22,
     "metadata": {},
     "output_type": "execute_result"
    }
   ],
   "source": [
    "tot = 0\n",
    "for row in test.splitlines():\n",
    "    winning, numbers = parse_row(row)\n",
    "    tot += value(winning, numbers)\n",
    "tot"
   ]
  },
  {
   "cell_type": "code",
   "execution_count": 23,
   "id": "fbed6dba",
   "metadata": {},
   "outputs": [
    {
     "data": {
      "text/plain": [
       "23441"
      ]
     },
     "execution_count": 23,
     "metadata": {},
     "output_type": "execute_result"
    }
   ],
   "source": [
    "tot = 0\n",
    "for row in input_.splitlines():\n",
    "    winning, numbers = parse_row(row)\n",
    "    tot += value(winning, numbers)\n",
    "tot"
   ]
  },
  {
   "cell_type": "markdown",
   "id": "984acafe",
   "metadata": {},
   "source": [
    "# Part 2"
   ]
  },
  {
   "cell_type": "code",
   "execution_count": 40,
   "id": "f5ec208e",
   "metadata": {},
   "outputs": [],
   "source": [
    "def parse_row(row):\n",
    "    card_id, content = row.split(':')\n",
    "    winning_txt, numbers_txt = content.split('|')\n",
    "    winning = {int(x) for x in winning_txt.split()}\n",
    "    numbers = {int(x) for x in numbers_txt.split()}\n",
    "    id_ = int(card_id.split()[-1])\n",
    "    return id_, winning, numbers"
   ]
  },
  {
   "cell_type": "code",
   "execution_count": 69,
   "id": "84f9149c",
   "metadata": {},
   "outputs": [],
   "source": [
    "def evaluate_card(id_, winning, numbers, copies):\n",
    "    n_matches = len(winning.intersection(numbers))\n",
    "    for i in range(id_ + 1, id_ + 1 + n_matches):\n",
    "        if i > len(rows):\n",
    "            break\n",
    "        copies[i] += copies[id_]\n"
   ]
  },
  {
   "cell_type": "code",
   "execution_count": 70,
   "id": "f8814082",
   "metadata": {},
   "outputs": [
    {
     "data": {
      "text/plain": [
       "30"
      ]
     },
     "execution_count": 70,
     "metadata": {},
     "output_type": "execute_result"
    }
   ],
   "source": [
    "rows = test.splitlines()\n",
    "copies = {i: 1 for i in range(1, len(rows) + 1)}\n",
    "for row in rows:\n",
    "    id_, winning, numbers = parse_row(row)\n",
    "    value = evaluate_card(id_, winning, numbers, copies)\n",
    "sum(copies.values())"
   ]
  },
  {
   "cell_type": "code",
   "execution_count": 71,
   "id": "cc24e4f2",
   "metadata": {},
   "outputs": [
    {
     "data": {
      "text/plain": [
       "5923918"
      ]
     },
     "execution_count": 71,
     "metadata": {},
     "output_type": "execute_result"
    }
   ],
   "source": [
    "rows = input_.splitlines()\n",
    "copies = {i: 1 for i in range(1, len(rows) + 1)}\n",
    "for row in rows:\n",
    "    id_, winning, numbers = parse_row(row)\n",
    "    value = evaluate_card(id_, winning, numbers, copies)\n",
    "sum(copies.values())"
   ]
  },
  {
   "cell_type": "code",
   "execution_count": null,
   "id": "c31be4b0",
   "metadata": {},
   "outputs": [],
   "source": []
  }
 ],
 "metadata": {
  "hide_input": false,
  "kernelspec": {
   "display_name": "Python 3 (ipykernel)",
   "language": "python",
   "name": "python3"
  },
  "language_info": {
   "codemirror_mode": {
    "name": "ipython",
    "version": 3
   },
   "file_extension": ".py",
   "mimetype": "text/x-python",
   "name": "python",
   "nbconvert_exporter": "python",
   "pygments_lexer": "ipython3",
   "version": "3.11.3"
  },
  "toc": {
   "nav_menu": {
    "height": "12px",
    "width": "252px"
   },
   "navigate_menu": true,
   "number_sections": true,
   "sideBar": true,
   "threshold": 4,
   "toc_cell": false,
   "toc_section_display": "block",
   "toc_window_display": false
  }
 },
 "nbformat": 4,
 "nbformat_minor": 5
}
