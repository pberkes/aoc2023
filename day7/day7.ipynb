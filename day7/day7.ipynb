{
 "cells": [
  {
   "cell_type": "code",
   "execution_count": 1,
   "id": "6a0bf45e",
   "metadata": {
    "ExecuteTime": {
     "end_time": "2022-12-02T05:18:22.341580Z",
     "start_time": "2022-12-02T05:18:21.400288Z"
    }
   },
   "outputs": [],
   "source": [
    "%matplotlib inline\n",
    "\n",
    "import matplotlib.pyplot as plt\n",
    "import numpy as np"
   ]
  },
  {
   "cell_type": "code",
   "execution_count": 2,
   "id": "5438613b",
   "metadata": {},
   "outputs": [],
   "source": [
    "test = \"\"\"\n",
    "32T3K 765\n",
    "T55J5 684\n",
    "KK677 28\n",
    "KTJJT 220\n",
    "QQQJA 483\n",
    "\"\"\".strip()"
   ]
  },
  {
   "cell_type": "code",
   "execution_count": 3,
   "id": "e63b6ffe",
   "metadata": {
    "ExecuteTime": {
     "end_time": "2022-12-02T05:18:39.902760Z",
     "start_time": "2022-12-02T05:18:39.354573Z"
    }
   },
   "outputs": [],
   "source": [
    "with open('input.txt', 'r') as f:\n",
    "    input_ = f.read().strip()"
   ]
  },
  {
   "cell_type": "markdown",
   "id": "533d4b56",
   "metadata": {},
   "source": [
    "# Part 1"
   ]
  },
  {
   "cell_type": "code",
   "execution_count": 4,
   "id": "2b25dfa5",
   "metadata": {},
   "outputs": [],
   "source": [
    "from collections import Counter\n",
    "from operator import itemgetter"
   ]
  },
  {
   "cell_type": "code",
   "execution_count": 6,
   "id": "c2ea8660",
   "metadata": {},
   "outputs": [],
   "source": [
    "cards = ['A', 'K', 'Q', 'J', 'T', '9', '8', '7', '6', '5', '4', '3', '2']\n",
    "# Translate cards so that higher card has higher character (easy to sort)\n",
    "cards_to_rank = {card: chr(len(cards) - idx + 65) for idx, card in enumerate(cards)}\n",
    "\n",
    "\n",
    "def hand_value(hand_orig, score):\n",
    "    # Translate card\n",
    "    hand = ''.join(cards_to_rank[x] for x in hand_orig)\n",
    "    counts = sorted(Counter(hand).items(), key=itemgetter(1))[::-1]\n",
    "\n",
    "    if counts[0][1] == 5:\n",
    "        value = 6\n",
    "    elif counts[0][1] == 4:\n",
    "        value = 5\n",
    "    elif counts[0][1] == 3 and counts[1][1] == 2:\n",
    "        value = 4\n",
    "    elif counts[0][1] == 3 and counts[1][1] == 1:\n",
    "        value = 3\n",
    "    elif counts[0][1] == 2 and counts[1][1] == 2:\n",
    "        value = 2\n",
    "    elif counts[0][1] == 2 and counts[2][1] == 1:\n",
    "        value = 1\n",
    "    else:\n",
    "        value = 0\n",
    "    return hand, hand_orig, int(score), value"
   ]
  },
  {
   "cell_type": "code",
   "execution_count": 7,
   "id": "de0cae09",
   "metadata": {},
   "outputs": [],
   "source": [
    "def score_game(hands):\n",
    "    final_score = 0\n",
    "    # Sort by ascending score, then card sequence\n",
    "    sorted_hands = sorted(hands, key=lambda x: (x[-1], x[0]))\n",
    "    for rank, hand in enumerate(sorted_hands):\n",
    "        final_score += (rank + 1) * hand[2]\n",
    "    return final_score"
   ]
  },
  {
   "cell_type": "code",
   "execution_count": 8,
   "id": "712f7c76",
   "metadata": {},
   "outputs": [
    {
     "data": {
      "text/plain": [
       "6440"
      ]
     },
     "execution_count": 8,
     "metadata": {},
     "output_type": "execute_result"
    }
   ],
   "source": [
    "hands = [hand_value(hand, score) for hand, score in [row.split() for row in test.splitlines()]]\n",
    "score_game(hands)"
   ]
  },
  {
   "cell_type": "code",
   "execution_count": 9,
   "id": "9e1b85ae",
   "metadata": {},
   "outputs": [
    {
     "data": {
      "text/plain": [
       "253954294"
      ]
     },
     "execution_count": 9,
     "metadata": {},
     "output_type": "execute_result"
    }
   ],
   "source": [
    "hands = [hand_value(hand, score) for hand, score in [row.split() for row in input_.splitlines()]]\n",
    "score_game(hands)"
   ]
  },
  {
   "cell_type": "markdown",
   "id": "984acafe",
   "metadata": {},
   "source": [
    "# Part 2"
   ]
  },
  {
   "cell_type": "code",
   "execution_count": 10,
   "id": "d6d7e2f5",
   "metadata": {},
   "outputs": [],
   "source": [
    "# J is not at the end\n",
    "cards = ['A', 'K', 'Q', 'T', '9', '8', '7', '6', '5', '4', '3', '2', 'J']\n",
    "cards_to_rank = {card: chr(len(cards) - idx + 65) for idx, card in enumerate(cards)}\n",
    "j = cards_to_rank['J']\n",
    "\n",
    "def hand_value(hand_orig, score):\n",
    "    # Translate card\n",
    "    hand = ''.join(cards_to_rank[x] for x in hand_orig)\n",
    "    counts_dict = Counter(hand)\n",
    "    # Remove J, we need it as a joker\n",
    "    count_j = counts_dict.get(j, 0)\n",
    "    del counts_dict[j]\n",
    "    counts = sorted(counts_dict.items(), key=itemgetter(1))[::-1]\n",
    "\n",
    "    # Sometimes a hand is JJJJJ\n",
    "    if len(counts) == 0:\n",
    "        counts0 = 0\n",
    "    else:\n",
    "        counts0 = counts[0][1]\n",
    "\n",
    "    if counts0 + count_j == 5:\n",
    "        value = 6\n",
    "    elif counts0 + count_j == 4:\n",
    "        value = 5\n",
    "    elif counts0 + count_j == 3 and counts[1][1] == 2:\n",
    "        value = 4\n",
    "    elif counts0 + count_j == 3 and counts[1][1] == 1:\n",
    "        value = 3\n",
    "    elif counts0 + count_j == 2 and counts[1][1] == 2:\n",
    "        value = 2\n",
    "    elif counts0 + count_j == 2 and counts[2][1] == 1:\n",
    "        value = 1\n",
    "    else:\n",
    "        value = 0\n",
    "    return hand, hand_orig, int(score), value"
   ]
  },
  {
   "cell_type": "code",
   "execution_count": 11,
   "id": "74959da0",
   "metadata": {},
   "outputs": [
    {
     "data": {
      "text/plain": [
       "5905"
      ]
     },
     "execution_count": 11,
     "metadata": {},
     "output_type": "execute_result"
    }
   ],
   "source": [
    "hands = [hand_value(hand, score) for hand, score in [row.split() for row in test.splitlines()]]\n",
    "score_game(hands)"
   ]
  },
  {
   "cell_type": "code",
   "execution_count": 12,
   "id": "0badfeec",
   "metadata": {},
   "outputs": [
    {
     "data": {
      "text/plain": [
       "254837398"
      ]
     },
     "execution_count": 12,
     "metadata": {},
     "output_type": "execute_result"
    }
   ],
   "source": [
    "hands = [hand_value(hand, score) for hand, score in [row.split() for row in input_.splitlines()]]\n",
    "score_game(hands)"
   ]
  },
  {
   "cell_type": "code",
   "execution_count": null,
   "id": "4cf8c01f",
   "metadata": {},
   "outputs": [],
   "source": []
  }
 ],
 "metadata": {
  "hide_input": false,
  "kernelspec": {
   "display_name": "Python 3 (ipykernel)",
   "language": "python",
   "name": "python3"
  },
  "language_info": {
   "codemirror_mode": {
    "name": "ipython",
    "version": 3
   },
   "file_extension": ".py",
   "mimetype": "text/x-python",
   "name": "python",
   "nbconvert_exporter": "python",
   "pygments_lexer": "ipython3",
   "version": "3.11.3"
  },
  "toc": {
   "nav_menu": {
    "height": "12px",
    "width": "252px"
   },
   "navigate_menu": true,
   "number_sections": true,
   "sideBar": true,
   "threshold": 4,
   "toc_cell": false,
   "toc_section_display": "block",
   "toc_window_display": false
  }
 },
 "nbformat": 4,
 "nbformat_minor": 5
}
