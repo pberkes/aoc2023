{
 "cells": [
  {
   "cell_type": "code",
   "execution_count": 1,
   "id": "6a0bf45e",
   "metadata": {
    "ExecuteTime": {
     "end_time": "2022-12-02T05:18:22.341580Z",
     "start_time": "2022-12-02T05:18:21.400288Z"
    }
   },
   "outputs": [],
   "source": [
    "import matplotlib.pyplot as plt\n",
    "import numpy as np"
   ]
  },
  {
   "cell_type": "code",
   "execution_count": 1,
   "id": "5b1cb3ac",
   "metadata": {},
   "outputs": [],
   "source": [
    "test = \"\"\"\n",
    "467..114..\n",
    "...*......\n",
    "..35..633.\n",
    "......#...\n",
    "617*......\n",
    ".....+.58.\n",
    "..592.....\n",
    "......755.\n",
    "...$.*....\n",
    ".664.598..\n",
    "\"\"\".strip()"
   ]
  },
  {
   "cell_type": "code",
   "execution_count": 2,
   "id": "e63b6ffe",
   "metadata": {
    "ExecuteTime": {
     "end_time": "2022-12-02T05:18:39.902760Z",
     "start_time": "2022-12-02T05:18:39.354573Z"
    }
   },
   "outputs": [],
   "source": [
    "with open('input.txt', 'r') as f:\n",
    "    input_ = f.read().strip()"
   ]
  },
  {
   "cell_type": "markdown",
   "id": "533d4b56",
   "metadata": {},
   "source": [
    "# Part 1"
   ]
  },
  {
   "cell_type": "code",
   "execution_count": 3,
   "id": "2b25dfa5",
   "metadata": {},
   "outputs": [],
   "source": [
    "row = test.splitlines()[0]"
   ]
  },
  {
   "cell_type": "code",
   "execution_count": 15,
   "id": "4c948ed8",
   "metadata": {},
   "outputs": [],
   "source": [
    "neighborhood = [(-1, -1), (-1, 0), (-1, 1), (0, -1), (0, 1), (1, -1), (1, 0), (1, 1)]"
   ]
  },
  {
   "cell_type": "code",
   "execution_count": 134,
   "id": "c2ea8660",
   "metadata": {},
   "outputs": [],
   "source": [
    "def parse_map(map_):\n",
    "    coords_to_digits = {}\n",
    "    symbols_coords = []\n",
    "    for i, row in enumerate(map_.splitlines()):\n",
    "        current_number = []\n",
    "        start_pos = i, 0\n",
    "        for j, ch in enumerate(row):\n",
    "            if ch.isdigit():\n",
    "                current_number.append(ch)\n",
    "                coords_to_digits[(i,j)] = (start_pos, current_number)\n",
    "            else:\n",
    "                current_number = []\n",
    "                start_pos = i, j\n",
    "                if ch != '.':\n",
    "                    symbols_coords.append((i, j)) \n",
    "\n",
    "    coords_to_number = {k: (ij, int(''.join(n))) for k, (ij, n) in coords_to_digits.items()}\n",
    "    return coords_to_number, symbols_coords\n",
    "\n",
    "\n",
    "def find_adjacent(coords_to_number, symbols_coords):\n",
    "    adj_numbers = set()\n",
    "    for i, j in symbols_coords:\n",
    "        for di, dj in neighborhood:\n",
    "            pos_i = i + di\n",
    "            pos_j = j + dj\n",
    "            number = coords_to_number.get((pos_i, pos_j), None)\n",
    "            if number is not None:\n",
    "                adj_numbers.add(number)\n",
    "    return adj_numbers\n",
    "\n",
    "\n",
    "coords_to_number, symbols_coords = parse_map(test)\n",
    "adj_numbers = find_adjacent(coords_to_number, symbols_coords)"
   ]
  },
  {
   "cell_type": "code",
   "execution_count": 135,
   "id": "8d677fe7",
   "metadata": {},
   "outputs": [
    {
     "data": {
      "text/plain": [
       "{((0, 0), 467),\n",
       " ((2, 1), 35),\n",
       " ((2, 5), 633),\n",
       " ((4, 0), 617),\n",
       " ((6, 1), 592),\n",
       " ((7, 5), 755),\n",
       " ((9, 0), 664),\n",
       " ((9, 4), 598)}"
      ]
     },
     "execution_count": 135,
     "metadata": {},
     "output_type": "execute_result"
    }
   ],
   "source": [
    "adj_numbers"
   ]
  },
  {
   "cell_type": "code",
   "execution_count": 136,
   "id": "1d4d70b6",
   "metadata": {},
   "outputs": [
    {
     "data": {
      "text/plain": [
       "4361"
      ]
     },
     "execution_count": 136,
     "metadata": {},
     "output_type": "execute_result"
    }
   ],
   "source": [
    "sum(n for (ij, n) in adj_numbers)"
   ]
  },
  {
   "cell_type": "code",
   "execution_count": 137,
   "id": "7ee52b2c",
   "metadata": {},
   "outputs": [
    {
     "data": {
      "text/plain": [
       "535351"
      ]
     },
     "execution_count": 137,
     "metadata": {},
     "output_type": "execute_result"
    }
   ],
   "source": [
    "coords_to_number, symbols_coords = parse_map(input_)\n",
    "adj_numbers = find_adjacent(coords_to_number, symbols_coords)\n",
    "sum(n for (ij, n) in adj_numbers)"
   ]
  },
  {
   "cell_type": "markdown",
   "id": "984acafe",
   "metadata": {},
   "source": [
    "# Part 2"
   ]
  },
  {
   "cell_type": "code",
   "execution_count": 147,
   "id": "a253f0cd",
   "metadata": {},
   "outputs": [
    {
     "data": {
      "text/plain": [
       "467835"
      ]
     },
     "execution_count": 147,
     "metadata": {},
     "output_type": "execute_result"
    }
   ],
   "source": [
    "def parse_map(map_):\n",
    "    coords_to_digits = {}\n",
    "    stars_coords = []\n",
    "    for i, row in enumerate(map_.splitlines()):\n",
    "        current_number = []\n",
    "        start_pos = i, 0\n",
    "        for j, ch in enumerate(row):\n",
    "            if ch.isdigit():\n",
    "                current_number.append(ch)\n",
    "                coords_to_digits[(i,j)] = (start_pos, current_number)\n",
    "            else:\n",
    "                current_number = []\n",
    "                start_pos = i, j\n",
    "                if ch == '*':\n",
    "                    stars_coords.append((i, j)) \n",
    "                    \n",
    "    coords_to_number = {k: (ij, int(''.join(n))) for k, (ij, n) in coords_to_digits.items()}\n",
    "    return coords_to_number, stars_coords\n",
    "\n",
    "\n",
    "def compute_power(coords_to_number, stars_coords):\n",
    "    tot_power = 0\n",
    "    for i, j in stars_coords:\n",
    "        adj_numbers = set()\n",
    "        for di, dj in neighborhood:\n",
    "            pos_i = i + di\n",
    "            pos_j = j + dj\n",
    "            number = coords_to_number.get((pos_i, pos_j), None)\n",
    "            if number is not None:\n",
    "                adj_numbers.add(number)\n",
    "        if len(adj_numbers) == 2:\n",
    "            adjs = list(adj_numbers)\n",
    "            power = adjs[0][1] * adjs[1][1]\n",
    "            tot_power += power\n",
    "    return tot_power\n",
    "\n",
    "\n",
    "coords_to_number, stars_coords = parse_map(test)\n",
    "compute_power(coords_to_number, stars_coords)"
   ]
  },
  {
   "cell_type": "code",
   "execution_count": 148,
   "id": "9f9f42f9",
   "metadata": {},
   "outputs": [
    {
     "data": {
      "text/plain": [
       "87287096"
      ]
     },
     "execution_count": 148,
     "metadata": {},
     "output_type": "execute_result"
    }
   ],
   "source": [
    "coords_to_number, stars_coords = parse_map(input_)\n",
    "compute_power(coords_to_number, stars_coords)"
   ]
  },
  {
   "cell_type": "code",
   "execution_count": null,
   "id": "a17a661a",
   "metadata": {},
   "outputs": [],
   "source": []
  }
 ],
 "metadata": {
  "hide_input": false,
  "kernelspec": {
   "display_name": "Python 3 (ipykernel)",
   "language": "python",
   "name": "python3"
  },
  "language_info": {
   "codemirror_mode": {
    "name": "ipython",
    "version": 3
   },
   "file_extension": ".py",
   "mimetype": "text/x-python",
   "name": "python",
   "nbconvert_exporter": "python",
   "pygments_lexer": "ipython3",
   "version": "3.11.3"
  },
  "toc": {
   "nav_menu": {
    "height": "12px",
    "width": "252px"
   },
   "navigate_menu": true,
   "number_sections": true,
   "sideBar": true,
   "threshold": 4,
   "toc_cell": false,
   "toc_section_display": "block",
   "toc_window_display": false
  }
 },
 "nbformat": 4,
 "nbformat_minor": 5
}
