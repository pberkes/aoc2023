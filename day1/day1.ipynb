{
 "cells": [
  {
   "cell_type": "code",
   "execution_count": 1,
   "id": "6a0bf45e",
   "metadata": {
    "ExecuteTime": {
     "end_time": "2022-12-02T05:18:22.341580Z",
     "start_time": "2022-12-02T05:18:21.400288Z"
    }
   },
   "outputs": [],
   "source": [
    "import matplotlib.pyplot as plt\n",
    "import numpy as np"
   ]
  },
  {
   "cell_type": "code",
   "execution_count": 2,
   "id": "5b1cb3ac",
   "metadata": {},
   "outputs": [],
   "source": [
    "test = \"\"\"\n",
    "1kj3kjlkj7\n",
    "a3kk4jd\n",
    "\"\"\".strip()"
   ]
  },
  {
   "cell_type": "code",
   "execution_count": 3,
   "id": "e63b6ffe",
   "metadata": {
    "ExecuteTime": {
     "end_time": "2022-12-02T05:18:39.902760Z",
     "start_time": "2022-12-02T05:18:39.354573Z"
    }
   },
   "outputs": [],
   "source": [
    "with open('input.txt', 'r') as f:\n",
    "    input_ = f.read().strip()"
   ]
  },
  {
   "cell_type": "markdown",
   "id": "533d4b56",
   "metadata": {},
   "source": [
    "# Part 1"
   ]
  },
  {
   "cell_type": "code",
   "execution_count": 8,
   "id": "2b25dfa5",
   "metadata": {},
   "outputs": [
    {
     "name": "stdout",
     "output_type": "stream",
     "text": [
      "17\n",
      "34\n"
     ]
    }
   ],
   "source": [
    "def row_to_number(row):\n",
    "    digits = [c for c in row if c.isdigit()]\n",
    "    return int(digits[0] + digits[-1])\n",
    "d\n",
    "for row in test.split():\n",
    "    print(row_to_number(row))"
   ]
  },
  {
   "cell_type": "code",
   "execution_count": 10,
   "id": "f92f976f",
   "metadata": {},
   "outputs": [
    {
     "data": {
      "text/plain": [
       "54916"
      ]
     },
     "execution_count": 10,
     "metadata": {},
     "output_type": "execute_result"
    }
   ],
   "source": [
    "sum(row_to_number(row) for row in input_.split())"
   ]
  },
  {
   "cell_type": "markdown",
   "id": "984acafe",
   "metadata": {},
   "source": [
    "# Part 2"
   ]
  },
  {
   "cell_type": "code",
   "execution_count": 86,
   "id": "d6d7e2f5",
   "metadata": {},
   "outputs": [],
   "source": [
    "test = \"\"\"\n",
    "two1nine\n",
    "eightwothree\n",
    "abcone2threexyz\n",
    "xtwone3four\n",
    "4nineeightseven2\n",
    "zoneight234\n",
    "7pqrstsixteen\n",
    "\"\"\".strip()\n",
    "expected = 281"
   ]
  },
  {
   "cell_type": "code",
   "execution_count": 91,
   "id": "fca16d85",
   "metadata": {},
   "outputs": [],
   "source": [
    "numbers_to_val = {\n",
    "    'one': 1, \n",
    "    'two': 2,\n",
    "    'three': 3, \n",
    "    'four': 4,\n",
    "    'five': 5,\n",
    "    'six': 6,\n",
    "    'seven': 7,\n",
    "    'eight': 8,\n",
    "    'nine': 9,\n",
    "}"
   ]
  },
  {
   "cell_type": "code",
   "execution_count": 118,
   "id": "aa4911fb",
   "metadata": {},
   "outputs": [],
   "source": [
    "import string\n",
    "numbers = list(numbers_to_val.keys()) + list(string.digits)\n",
    "\n",
    "for d in string.digits:\n",
    "    numbers_to_val[d] = int(d)"
   ]
  },
  {
   "cell_type": "code",
   "execution_count": 119,
   "id": "dde6d3f8",
   "metadata": {},
   "outputs": [
    {
     "data": {
      "text/plain": [
       "281"
      ]
     },
     "execution_count": 119,
     "metadata": {},
     "output_type": "execute_result"
    }
   ],
   "source": [
    "def row_to_number(row):\n",
    "    lmatches = set((row.find(n), numbers_to_val[n]) for n in numbers if row.find(n) >= 0)\n",
    "    rmatches = set((row.rfind(n), numbers_to_val[n]) for n in numbers if row.rfind(n) >= 0)\n",
    "    matches = sorted(lmatches | rmatches)\n",
    "    return matches[0][1] * 10 + matches[-1][1]\n",
    "\n",
    "sum(row_to_number(row) for row in test.split())"
   ]
  },
  {
   "cell_type": "code",
   "execution_count": 120,
   "id": "901c84ae",
   "metadata": {},
   "outputs": [
    {
     "data": {
      "text/plain": [
       "99"
      ]
     },
     "execution_count": 120,
     "metadata": {},
     "output_type": "execute_result"
    }
   ],
   "source": [
    "row_to_number('91twolzjmtseven49')"
   ]
  },
  {
   "cell_type": "code",
   "execution_count": 121,
   "id": "f9229c9c",
   "metadata": {},
   "outputs": [
    {
     "data": {
      "text/plain": [
       "54728"
      ]
     },
     "execution_count": 121,
     "metadata": {},
     "output_type": "execute_result"
    }
   ],
   "source": [
    "sum(row_to_number(row) for row in input_.split())"
   ]
  },
  {
   "cell_type": "code",
   "execution_count": null,
   "id": "dc0d3aea",
   "metadata": {},
   "outputs": [],
   "source": []
  }
 ],
 "metadata": {
  "hide_input": false,
  "kernelspec": {
   "display_name": "Python 3 (ipykernel)",
   "language": "python",
   "name": "python3"
  },
  "language_info": {
   "codemirror_mode": {
    "name": "ipython",
    "version": 3
   },
   "file_extension": ".py",
   "mimetype": "text/x-python",
   "name": "python",
   "nbconvert_exporter": "python",
   "pygments_lexer": "ipython3",
   "version": "3.11.3"
  },
  "toc": {
   "nav_menu": {
    "height": "12px",
    "width": "252px"
   },
   "navigate_menu": true,
   "number_sections": true,
   "sideBar": true,
   "threshold": 4,
   "toc_cell": false,
   "toc_section_display": "block",
   "toc_window_display": false
  }
 },
 "nbformat": 4,
 "nbformat_minor": 5
}
