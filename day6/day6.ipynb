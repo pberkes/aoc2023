{
 "cells": [
  {
   "cell_type": "code",
   "execution_count": 2,
   "id": "6a0bf45e",
   "metadata": {
    "ExecuteTime": {
     "end_time": "2022-12-02T05:18:22.341580Z",
     "start_time": "2022-12-02T05:18:21.400288Z"
    }
   },
   "outputs": [],
   "source": [
    "%matplotlib inline\n",
    "\n",
    "import matplotlib.pyplot as plt\n",
    "import numpy as np"
   ]
  },
  {
   "cell_type": "code",
   "execution_count": 10,
   "id": "5b1cb3ac",
   "metadata": {},
   "outputs": [],
   "source": [
    "test = \"\"\"\n",
    "Time:      7  15   30\n",
    "Distance:  9  40  200\n",
    "\"\"\".strip()"
   ]
  },
  {
   "cell_type": "code",
   "execution_count": 11,
   "id": "e63b6ffe",
   "metadata": {
    "ExecuteTime": {
     "end_time": "2022-12-02T05:18:39.902760Z",
     "start_time": "2022-12-02T05:18:39.354573Z"
    }
   },
   "outputs": [],
   "source": [
    "with open('input.txt', 'r') as f:\n",
    "    input_ = f.read().strip()"
   ]
  },
  {
   "cell_type": "markdown",
   "id": "533d4b56",
   "metadata": {},
   "source": [
    "# Part 1"
   ]
  },
  {
   "cell_type": "code",
   "execution_count": 6,
   "id": "2b25dfa5",
   "metadata": {},
   "outputs": [],
   "source": [
    "def distance(tot_time, hold_time):\n",
    "    return (tot_time - hold_time) * hold_time\n",
    "\n",
    "tot_time = 7\n",
    "record = 9\n",
    "h = np.arange(0, tot_time+1)\n",
    "dist = distance(tot_time, h)"
   ]
  },
  {
   "cell_type": "code",
   "execution_count": 7,
   "id": "c2ea8660",
   "metadata": {},
   "outputs": [
    {
     "data": {
      "text/plain": [
       "array([ 0,  6, 10, 12, 12, 10,  6,  0])"
      ]
     },
     "execution_count": 7,
     "metadata": {},
     "output_type": "execute_result"
    }
   ],
   "source": [
    "dist"
   ]
  },
  {
   "cell_type": "code",
   "execution_count": 9,
   "id": "1d4d70b6",
   "metadata": {},
   "outputs": [
    {
     "data": {
      "text/plain": [
       "array([10, 12, 12, 10])"
      ]
     },
     "execution_count": 9,
     "metadata": {},
     "output_type": "execute_result"
    }
   ],
   "source": [
    "dist[dist > record]"
   ]
  },
  {
   "cell_type": "code",
   "execution_count": 19,
   "id": "712f7c76",
   "metadata": {},
   "outputs": [],
   "source": [
    "def parse(txt):\n",
    "    time_txt, dist_txt = txt.splitlines()\n",
    "    time = [int(x) for x in time_txt[9:].split()]\n",
    "    dist = [int(x) for x in dist_txt[9:].split()]\n",
    "    return time, dist"
   ]
  },
  {
   "cell_type": "code",
   "execution_count": 24,
   "id": "a06506ff",
   "metadata": {},
   "outputs": [
    {
     "data": {
      "text/plain": [
       "288"
      ]
     },
     "execution_count": 24,
     "metadata": {},
     "output_type": "execute_result"
    }
   ],
   "source": [
    "time, dist = parse(test)\n",
    "n_wins = []\n",
    "for tot_time, record in zip(time, dist):\n",
    "    h = np.arange(0, tot_time+1)\n",
    "    dist = distance(tot_time, h)\n",
    "    n_wins.append((dist > record).sum())\n",
    "np.prod(n_wins)"
   ]
  },
  {
   "cell_type": "code",
   "execution_count": 25,
   "id": "b422cf33",
   "metadata": {},
   "outputs": [
    {
     "data": {
      "text/plain": [
       "2344708"
      ]
     },
     "execution_count": 25,
     "metadata": {},
     "output_type": "execute_result"
    }
   ],
   "source": [
    "time, dist = parse(input_)\n",
    "n_wins = []\n",
    "for tot_time, record in zip(time, dist):\n",
    "    h = np.arange(0, tot_time+1)\n",
    "    dist = distance(tot_time, h)\n",
    "    n_wins.append((dist > record).sum())\n",
    "np.prod(n_wins)"
   ]
  },
  {
   "cell_type": "markdown",
   "id": "984acafe",
   "metadata": {},
   "source": [
    "# Part 2"
   ]
  },
  {
   "cell_type": "code",
   "execution_count": 28,
   "id": "d6d7e2f5",
   "metadata": {},
   "outputs": [],
   "source": [
    "def parse(txt):\n",
    "    time_txt, dist_txt = txt.splitlines()\n",
    "    time = int(''.join(time_txt[9:].split()))\n",
    "    dist = int(''.join(dist_txt[9:].split()))\n",
    "    return time, dist"
   ]
  },
  {
   "cell_type": "code",
   "execution_count": 31,
   "id": "99eb4f61",
   "metadata": {},
   "outputs": [],
   "source": [
    "tot_time, record = parse(test)"
   ]
  },
  {
   "cell_type": "code",
   "execution_count": 33,
   "id": "9aa06f86",
   "metadata": {},
   "outputs": [
    {
     "data": {
      "text/plain": [
       "71503"
      ]
     },
     "execution_count": 33,
     "metadata": {},
     "output_type": "execute_result"
    }
   ],
   "source": [
    "h = np.arange(0, tot_time+1)\n",
    "dist = distance(tot_time, h)\n",
    "n_wins = (dist > record).sum()\n",
    "n_wins"
   ]
  },
  {
   "cell_type": "code",
   "execution_count": 34,
   "id": "82b0929c",
   "metadata": {},
   "outputs": [
    {
     "data": {
      "text/plain": [
       "30125202"
      ]
     },
     "execution_count": 34,
     "metadata": {},
     "output_type": "execute_result"
    }
   ],
   "source": [
    "tot_time, record = parse(input_)\n",
    "h = np.arange(0, tot_time+1)\n",
    "dist = distance(tot_time, h)\n",
    "n_wins = (dist > record).sum()\n",
    "n_wins"
   ]
  },
  {
   "cell_type": "code",
   "execution_count": null,
   "id": "7299dc3e",
   "metadata": {},
   "outputs": [],
   "source": []
  }
 ],
 "metadata": {
  "hide_input": false,
  "kernelspec": {
   "display_name": "Python 3 (ipykernel)",
   "language": "python",
   "name": "python3"
  },
  "language_info": {
   "codemirror_mode": {
    "name": "ipython",
    "version": 3
   },
   "file_extension": ".py",
   "mimetype": "text/x-python",
   "name": "python",
   "nbconvert_exporter": "python",
   "pygments_lexer": "ipython3",
   "version": "3.11.3"
  },
  "toc": {
   "nav_menu": {
    "height": "12px",
    "width": "252px"
   },
   "navigate_menu": true,
   "number_sections": true,
   "sideBar": true,
   "threshold": 4,
   "toc_cell": false,
   "toc_section_display": "block",
   "toc_window_display": false
  }
 },
 "nbformat": 4,
 "nbformat_minor": 5
}
