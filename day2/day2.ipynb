{
 "cells": [
  {
   "cell_type": "code",
   "execution_count": 1,
   "id": "6a0bf45e",
   "metadata": {
    "ExecuteTime": {
     "end_time": "2022-12-02T05:18:22.341580Z",
     "start_time": "2022-12-02T05:18:21.400288Z"
    }
   },
   "outputs": [],
   "source": [
    "import matplotlib.pyplot as plt\n",
    "import numpy as np"
   ]
  },
  {
   "cell_type": "code",
   "execution_count": 2,
   "id": "5b1cb3ac",
   "metadata": {},
   "outputs": [],
   "source": [
    "test = \"\"\"\n",
    "Game 1: 3 blue, 4 red; 1 red, 2 green, 6 blue; 2 green\n",
    "Game 2: 1 blue, 2 green; 3 green, 4 blue, 1 red; 1 green, 1 blue\n",
    "Game 3: 8 green, 6 blue, 20 red; 5 blue, 4 red, 13 green; 5 green, 1 red\n",
    "Game 4: 1 green, 3 red, 6 blue; 3 green, 6 red; 3 green, 15 blue, 14 red\n",
    "Game 5: 6 red, 1 blue, 3 green; 2 blue, 1 red, 2 green\n",
    "\"\"\".strip()\n",
    "expected = 8"
   ]
  },
  {
   "cell_type": "code",
   "execution_count": 3,
   "id": "e63b6ffe",
   "metadata": {
    "ExecuteTime": {
     "end_time": "2022-12-02T05:18:39.902760Z",
     "start_time": "2022-12-02T05:18:39.354573Z"
    }
   },
   "outputs": [],
   "source": [
    "with open('input.txt', 'r') as f:\n",
    "    input_ = f.read().strip()"
   ]
  },
  {
   "cell_type": "markdown",
   "id": "533d4b56",
   "metadata": {},
   "source": [
    "# Part 1"
   ]
  },
  {
   "cell_type": "code",
   "execution_count": 33,
   "id": "629897c9",
   "metadata": {},
   "outputs": [],
   "source": [
    "max_cubes = {'red': 12, 'green': 13, 'blue': 14}"
   ]
  },
  {
   "cell_type": "code",
   "execution_count": 41,
   "id": "5492a465",
   "metadata": {},
   "outputs": [],
   "source": [
    "def parse_extraction(extraction):\n",
    "    cubes = {'red': 0, 'green': 0, 'blue': 0}\n",
    "    n_color = [x.split() for x in extraction.split(',')]\n",
    "    for n, color in n_color:\n",
    "        cubes[color] = int(n)\n",
    "    return cubes"
   ]
  },
  {
   "cell_type": "code",
   "execution_count": 42,
   "id": "1fb4af86",
   "metadata": {},
   "outputs": [],
   "source": [
    "def parse_row(row):\n",
    "    game_id, rest = row.split(':')\n",
    "    id_ = int(game_id.split()[-1])\n",
    "    extractions = rest.split(';')\n",
    "    all_cubes = []\n",
    "    for extraction in extractions:\n",
    "        cubes = parse_extraction(extraction)\n",
    "        all_cubes.append(cubes)\n",
    "    return id_, all_cubes"
   ]
  },
  {
   "cell_type": "code",
   "execution_count": 43,
   "id": "22359f72",
   "metadata": {},
   "outputs": [],
   "source": [
    "def is_possible(cubes, max_cubes):\n",
    "    for key in max_cubes:\n",
    "        if cubes[key] > max_cubes[key]:\n",
    "            return False\n",
    "    return True"
   ]
  },
  {
   "cell_type": "code",
   "execution_count": 44,
   "id": "343c8ccb",
   "metadata": {},
   "outputs": [],
   "source": [
    "def all_possible(all_cubes, max_cubes):\n",
    "    for cubes in all_cubes:\n",
    "        if not is_possible(cubes, max_cubes):\n",
    "            return False\n",
    "    return True"
   ]
  },
  {
   "cell_type": "code",
   "execution_count": 50,
   "id": "1eafeacd",
   "metadata": {},
   "outputs": [
    {
     "data": {
      "text/plain": [
       "8"
      ]
     },
     "execution_count": 50,
     "metadata": {},
     "output_type": "execute_result"
    }
   ],
   "source": [
    "rows = test.splitlines()\n",
    "\n",
    "sum_ = 0\n",
    "for row in rows:\n",
    "    id_, all_cubes = parse_row(row)\n",
    "    if all_possible(all_cubes, max_cubes):\n",
    "        sum_ += id_\n",
    "sum_"
   ]
  },
  {
   "cell_type": "code",
   "execution_count": 51,
   "id": "ed04b152",
   "metadata": {},
   "outputs": [
    {
     "data": {
      "text/plain": [
       "2101"
      ]
     },
     "execution_count": 51,
     "metadata": {},
     "output_type": "execute_result"
    }
   ],
   "source": [
    "rows = input_.splitlines()\n",
    "\n",
    "sum_ = 0\n",
    "for row in rows:\n",
    "    id_, all_cubes = parse_row(row)\n",
    "    if all_possible(all_cubes, max_cubes):\n",
    "        sum_ += id_\n",
    "sum_"
   ]
  },
  {
   "cell_type": "code",
   "execution_count": null,
   "id": "8e137f3b",
   "metadata": {},
   "outputs": [],
   "source": []
  },
  {
   "cell_type": "markdown",
   "id": "984acafe",
   "metadata": {},
   "source": [
    "# Part 2"
   ]
  },
  {
   "cell_type": "code",
   "execution_count": 52,
   "id": "d6d7e2f5",
   "metadata": {},
   "outputs": [
    {
     "data": {
      "text/plain": [
       "[{'red': 0, 'green': 8, 'blue': 0},\n",
       " {'red': 2, 'green': 20, 'blue': 0},\n",
       " {'red': 1, 'green': 12, 'blue': 1},\n",
       " {'red': 4, 'green': 0, 'blue': 1},\n",
       " {'red': 6, 'green': 0, 'blue': 1}]"
      ]
     },
     "execution_count": 52,
     "metadata": {},
     "output_type": "execute_result"
    }
   ],
   "source": [
    "all_cubes"
   ]
  },
  {
   "cell_type": "code",
   "execution_count": 55,
   "id": "c84acd0c",
   "metadata": {},
   "outputs": [],
   "source": [
    "def min_cubes(all_cubes):\n",
    "    min_ = {'red': 0, 'green': 0, 'blue': 0}\n",
    "    for cubes in all_cubes:\n",
    "        for key in cubes.keys():\n",
    "            if cubes[key] > min_[key]:\n",
    "                min_[key] = cubes[key]\n",
    "    return min_\n",
    "\n",
    "def power(cubes):\n",
    "    return prod"
   ]
  },
  {
   "cell_type": "code",
   "execution_count": 60,
   "id": "488ea230",
   "metadata": {},
   "outputs": [
    {
     "data": {
      "text/plain": [
       "120"
      ]
     },
     "execution_count": 60,
     "metadata": {},
     "output_type": "execute_result"
    }
   ],
   "source": [
    "from math import prod\n",
    "prod(min_cubes(all_cubes).values())"
   ]
  },
  {
   "cell_type": "code",
   "execution_count": null,
   "id": "e11bab9a",
   "metadata": {},
   "outputs": [],
   "source": [
    "rows = test.splitlines()\n",
    "\n",
    "sum_ = 0\n",
    "for row in rows:\n",
    "    id_, all_cubes = parse_row(row)\n",
    "    if all_possible(all_cubes, max_cubes):\n",
    "        sum_ += id_\n",
    "sum_"
   ]
  }
 ],
 "metadata": {
  "hide_input": false,
  "kernelspec": {
   "display_name": "Python 3 (ipykernel)",
   "language": "python",
   "name": "python3"
  },
  "language_info": {
   "codemirror_mode": {
    "name": "ipython",
    "version": 3
   },
   "file_extension": ".py",
   "mimetype": "text/x-python",
   "name": "python",
   "nbconvert_exporter": "python",
   "pygments_lexer": "ipython3",
   "version": "3.11.3"
  },
  "toc": {
   "nav_menu": {
    "height": "12px",
    "width": "252px"
   },
   "navigate_menu": true,
   "number_sections": true,
   "sideBar": true,
   "threshold": 4,
   "toc_cell": false,
   "toc_section_display": "block",
   "toc_window_display": false
  }
 },
 "nbformat": 4,
 "nbformat_minor": 5
}
