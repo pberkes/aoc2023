{
 "cells": [
  {
   "cell_type": "code",
   "execution_count": 1,
   "id": "6a0bf45e",
   "metadata": {
    "ExecuteTime": {
     "end_time": "2022-12-02T05:18:22.341580Z",
     "start_time": "2022-12-02T05:18:21.400288Z"
    }
   },
   "outputs": [],
   "source": [
    "import matplotlib.pyplot as plt\n",
    "import numpy as np"
   ]
  },
  {
   "cell_type": "code",
   "execution_count": 1,
   "id": "5b1cb3ac",
   "metadata": {},
   "outputs": [],
   "source": [
    "test = \"\"\"\n",
    "seeds: 79 14 55 13\n",
    "\n",
    "seed-to-soil map:\n",
    "50 98 2\n",
    "52 50 48\n",
    "\n",
    "soil-to-fertilizer map:\n",
    "0 15 37\n",
    "37 52 2\n",
    "39 0 15\n",
    "\n",
    "fertilizer-to-water map:\n",
    "49 53 8\n",
    "0 11 42\n",
    "42 0 7\n",
    "57 7 4\n",
    "\n",
    "water-to-light map:\n",
    "88 18 7\n",
    "18 25 70\n",
    "\n",
    "light-to-temperature map:\n",
    "45 77 23\n",
    "81 45 19\n",
    "68 64 13\n",
    "\n",
    "temperature-to-humidity map:\n",
    "0 69 1\n",
    "1 0 69\n",
    "\n",
    "humidity-to-location map:\n",
    "60 56 37\n",
    "56 93 4\n",
    "\"\"\".strip()"
   ]
  },
  {
   "cell_type": "code",
   "execution_count": 2,
   "id": "e63b6ffe",
   "metadata": {
    "ExecuteTime": {
     "end_time": "2022-12-02T05:18:39.902760Z",
     "start_time": "2022-12-02T05:18:39.354573Z"
    }
   },
   "outputs": [],
   "source": [
    "with open('input.txt', 'r') as f:\n",
    "    input_ = f.read().strip()"
   ]
  },
  {
   "cell_type": "markdown",
   "id": "533d4b56",
   "metadata": {},
   "source": [
    "# Part 1"
   ]
  },
  {
   "cell_type": "code",
   "execution_count": 95,
   "id": "f361a07c",
   "metadata": {},
   "outputs": [],
   "source": [
    "class RangeMap:\n",
    "    def __init__(self, dest_source_range_txt):\n",
    "        dest_source_range = []\n",
    "        for row in dest_source_range_txt.strip().splitlines():\n",
    "            dest_start, source_start, range_len = [int(x) for x in row.split()]\n",
    "            dest_source_range.append([source_start, source_start + range_len - 1, dest_start])\n",
    "        # sorted by source_start\n",
    "        self.dest_source_range = sorted(dest_source_range)\n",
    "\n",
    "    def map(self, source):\n",
    "        for source_start, source_end, dest_start in self.dest_source_range:\n",
    "            if source < source_start:\n",
    "                dest = source\n",
    "                break\n",
    "            if source >= source_start and source <= source_end:\n",
    "                dest = source - source_start + dest_start\n",
    "                break\n",
    "        else:\n",
    "            dest = source\n",
    "        return dest"
   ]
  },
  {
   "cell_type": "code",
   "execution_count": 96,
   "id": "2bf08f0a",
   "metadata": {},
   "outputs": [
    {
     "data": {
      "text/plain": [
       "35"
      ]
     },
     "execution_count": 96,
     "metadata": {},
     "output_type": "execute_result"
    }
   ],
   "source": [
    "parts = test.split('\\n\\n')\n",
    "seeds_txt = parts[0]\n",
    "seeds = [int(s) for s in seeds_txt[7:].split()]\n",
    "\n",
    "range_maps = []\n",
    "for map_desc in parts[1:]:\n",
    "    map_name, map_txt = map_desc.split(':')\n",
    "    range_maps.append(RangeMap(map_txt))\n",
    "\n",
    "destinations = []\n",
    "for s in seeds:\n",
    "    d = s\n",
    "    for rm in range_maps:\n",
    "        d = rm.map(d)\n",
    "    destinations.append(d)\n",
    "min(destinations)"
   ]
  },
  {
   "cell_type": "code",
   "execution_count": 97,
   "id": "d36e7d9a",
   "metadata": {},
   "outputs": [
    {
     "data": {
      "text/plain": [
       "165788812"
      ]
     },
     "execution_count": 97,
     "metadata": {},
     "output_type": "execute_result"
    }
   ],
   "source": [
    "parts = input_.split('\\n\\n')\n",
    "seeds_txt = parts[0]\n",
    "seeds = [int(s) for s in seeds_txt[7:].split()]\n",
    "\n",
    "range_maps = []\n",
    "for map_desc in parts[1:]:\n",
    "    map_name, map_txt = map_desc.split(':')\n",
    "    range_maps.append(RangeMap(map_txt))\n",
    "\n",
    "destinations = []\n",
    "for s in seeds:\n",
    "    d = s\n",
    "    for rm in range_maps:\n",
    "        d = rm.map(d)\n",
    "    destinations.append(d)\n",
    "min(destinations)"
   ]
  },
  {
   "cell_type": "markdown",
   "id": "984acafe",
   "metadata": {},
   "source": [
    "# Part 2"
   ]
  },
  {
   "cell_type": "code",
   "execution_count": 256,
   "id": "6f674da0",
   "metadata": {},
   "outputs": [],
   "source": [
    "class RangeMap:\n",
    "    def __init__(self, dest_source_range_txt):\n",
    "        dest_source_range = []\n",
    "        for row in dest_source_range_txt.strip().splitlines():\n",
    "            dest_start, source_start, range_len = [int(x) for x in row.split()]\n",
    "            dest_source_range.append([source_start, source_start + range_len - 1, dest_start])\n",
    "        # sorted by source_start\n",
    "        dest_source_range = sorted(dest_source_range)\n",
    "    \n",
    "        # build a range map without holes\n",
    "        pos = 0\n",
    "        complete_dest_source_range = []\n",
    "        for source_start, source_end, dest_start in dest_source_range:\n",
    "            if pos < source_start:\n",
    "                complete_dest_source_range.append((pos, source_start-1, pos))\n",
    "            complete_dest_source_range.append((source_start, source_end, dest_start))\n",
    "            pos = source_end + 1\n",
    "        complete_dest_source_range.append((pos, 1_000_000_000_000, pos))\n",
    "        self.dest_source_range = complete_dest_source_range\n",
    "        \n",
    "    def map_range(self, source_range_start, source_range_end):\n",
    "        # Map an entire range in destination ranges\n",
    "        mapped_range = []\n",
    "\n",
    "        source = source_range_start\n",
    "        end = False\n",
    "        for source_start, source_end, dest_start in self.dest_source_range:\n",
    "            if source > source_end:\n",
    "                continue\n",
    "            if source_range_end < source_end:\n",
    "                source_end = source_range_end\n",
    "                end = True\n",
    "            dest = source - source_start + dest_start\n",
    "            len_ = source_end - source + 1\n",
    "            mapped_range.append((dest, dest+len_-1))\n",
    "            source = source_end + 1\n",
    "            if end:\n",
    "                break\n",
    "\n",
    "        return mapped_range\n"
   ]
  },
  {
   "cell_type": "code",
   "execution_count": 272,
   "id": "d6d7e2f5",
   "metadata": {},
   "outputs": [
    {
     "data": {
      "text/plain": [
       "[(79, 14), (55, 13)]"
      ]
     },
     "execution_count": 272,
     "metadata": {},
     "output_type": "execute_result"
    }
   ],
   "source": [
    "parts = test.split('\\n\\n')\n",
    "seeds_txt = parts[0]\n",
    "seeds_int = [int(s) for s in seeds_txt[7:].split()]\n",
    "\n",
    "seeds_ranges = []\n",
    "for i in range(0, len(seeds_int), 2):\n",
    "    seeds_ranges.append((seeds_int[i], seeds_int[i+1]))\n",
    "seeds_ranges"
   ]
  },
  {
   "cell_type": "code",
   "execution_count": 273,
   "id": "47847774",
   "metadata": {},
   "outputs": [],
   "source": [
    "range_maps = []\n",
    "for map_desc in parts[1:]:\n",
    "    map_name, map_txt = map_desc.split(':')\n",
    "    range_maps.append(RangeMap(map_txt))"
   ]
  },
  {
   "cell_type": "code",
   "execution_count": 274,
   "id": "2874aa6c",
   "metadata": {},
   "outputs": [
    {
     "name": "stdout",
     "output_type": "stream",
     "text": [
      "sr [(55, 67)]\n",
      "d [(57, 69)]\n",
      "d [(57, 69)]\n",
      "d [(53, 56), (61, 69)]\n",
      "d [(46, 49), (54, 62)]\n",
      "d [(82, 85), (90, 98)]\n",
      "d [(82, 85), (90, 98)]\n",
      "d [(86, 89), (94, 96), (56, 59), (97, 98)]\n",
      "sr [(79, 92)]\n",
      "d [(81, 94)]\n",
      "d [(81, 94)]\n",
      "d [(81, 94)]\n",
      "d [(74, 87), (95, 94)]\n",
      "d [(78, 80), (45, 55), (63, 62)]\n",
      "d [(46, 56), (64, 63), (78, 80)]\n",
      "d [(46, 55), (60, 60), (68, 67), (82, 84)]\n"
     ]
    }
   ],
   "source": [
    "destinations = []\n",
    "for seed_start, seed_len in sorted(seeds_ranges):\n",
    "    source_ranges = [(seed_start, seed_start + seed_len - 1)]\n",
    "    print('sr', source_ranges)\n",
    "    for rm in range_maps:\n",
    "        dest_ranges = []\n",
    "        for start, end in source_ranges:\n",
    "            mapped_range = rm.map_range(start, end)\n",
    "            dest_ranges.extend(mapped_range)\n",
    "        source_ranges = sorted(dest_ranges)\n",
    "        print('d', dest_ranges)\n"
   ]
  },
  {
   "cell_type": "code",
   "execution_count": 275,
   "id": "2be98eaa",
   "metadata": {},
   "outputs": [
    {
     "data": {
      "text/plain": [
       "46"
      ]
     },
     "execution_count": 275,
     "metadata": {},
     "output_type": "execute_result"
    }
   ],
   "source": [
    "source_ranges[0][0]"
   ]
  },
  {
   "cell_type": "markdown",
   "id": "f4fae68d",
   "metadata": {},
   "source": [
    "Now for the real input"
   ]
  },
  {
   "cell_type": "code",
   "execution_count": 276,
   "id": "e5807f8f",
   "metadata": {},
   "outputs": [
    {
     "data": {
      "text/plain": [
       "[(2494933545, 159314859),\n",
       " (4045092792, 172620202),\n",
       " (928898138, 554061882),\n",
       " (2740120981, 81327018),\n",
       " (2031777983, 63513119),\n",
       " (2871914181, 270575980),\n",
       " (2200250633, 216481794),\n",
       " (3289604059, 25147787),\n",
       " (3472625834, 10030240),\n",
       " (260990830, 232636388)]"
      ]
     },
     "execution_count": 276,
     "metadata": {},
     "output_type": "execute_result"
    }
   ],
   "source": [
    "parts = input_.split('\\n\\n')\n",
    "seeds_txt = parts[0]\n",
    "seeds_int = [int(s) for s in seeds_txt[7:].split()]\n",
    "\n",
    "seeds_ranges = []\n",
    "for i in range(0, len(seeds_int), 2):\n",
    "    seeds_ranges.append((seeds_int[i], seeds_int[i+1]))\n",
    "seeds_ranges"
   ]
  },
  {
   "cell_type": "code",
   "execution_count": 277,
   "id": "bf1d3b54",
   "metadata": {},
   "outputs": [],
   "source": [
    "range_maps = []\n",
    "for map_desc in parts[1:]:\n",
    "    map_name, map_txt = map_desc.split(':')\n",
    "    range_maps.append(RangeMap(map_txt))\n"
   ]
  },
  {
   "cell_type": "code",
   "execution_count": 279,
   "id": "695e8835",
   "metadata": {},
   "outputs": [],
   "source": [
    "destinations = []\n",
    "for seed_start, seed_len in sorted(seeds_ranges):\n",
    "    source_ranges = [(seed_start, seed_start + seed_len - 1)]\n",
    "    for rm in range_maps:\n",
    "        dest_ranges = []\n",
    "        for start, end in source_ranges:\n",
    "            mapped_range = rm.map_range(start, end)\n",
    "            dest_ranges.extend(mapped_range)\n",
    "        source_ranges = sorted(dest_ranges)\n"
   ]
  },
  {
   "cell_type": "code",
   "execution_count": 280,
   "id": "bcfc7dd0",
   "metadata": {},
   "outputs": [
    {
     "data": {
      "text/plain": [
       "1928058"
      ]
     },
     "execution_count": 280,
     "metadata": {},
     "output_type": "execute_result"
    }
   ],
   "source": [
    "source_ranges[0][0]"
   ]
  },
  {
   "cell_type": "code",
   "execution_count": null,
   "id": "b759cc47",
   "metadata": {},
   "outputs": [],
   "source": []
  }
 ],
 "metadata": {
  "hide_input": false,
  "kernelspec": {
   "display_name": "Python 3 (ipykernel)",
   "language": "python",
   "name": "python3"
  },
  "language_info": {
   "codemirror_mode": {
    "name": "ipython",
    "version": 3
   },
   "file_extension": ".py",
   "mimetype": "text/x-python",
   "name": "python",
   "nbconvert_exporter": "python",
   "pygments_lexer": "ipython3",
   "version": "3.11.3"
  },
  "toc": {
   "nav_menu": {
    "height": "12px",
    "width": "252px"
   },
   "navigate_menu": true,
   "number_sections": true,
   "sideBar": true,
   "threshold": 4,
   "toc_cell": false,
   "toc_section_display": "block",
   "toc_window_display": false
  }
 },
 "nbformat": 4,
 "nbformat_minor": 5
}
