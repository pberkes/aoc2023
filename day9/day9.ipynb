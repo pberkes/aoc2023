{
 "cells": [
  {
   "cell_type": "code",
   "execution_count": 3,
   "id": "6a0bf45e",
   "metadata": {
    "ExecuteTime": {
     "end_time": "2022-12-02T05:18:22.341580Z",
     "start_time": "2022-12-02T05:18:21.400288Z"
    }
   },
   "outputs": [],
   "source": [
    "%matplotlib inline\n",
    "\n",
    "import matplotlib.pyplot as plt\n",
    "import numpy as np"
   ]
  },
  {
   "cell_type": "code",
   "execution_count": 4,
   "id": "5b1cb3ac",
   "metadata": {},
   "outputs": [],
   "source": [
    "test = \"\"\"\n",
    "0 3 6 9 12 15\n",
    "1 3 6 10 15 21\n",
    "10 13 16 21 30 45\n",
    "\"\"\".strip()"
   ]
  },
  {
   "cell_type": "code",
   "execution_count": 5,
   "id": "e63b6ffe",
   "metadata": {
    "ExecuteTime": {
     "end_time": "2022-12-02T05:18:39.902760Z",
     "start_time": "2022-12-02T05:18:39.354573Z"
    }
   },
   "outputs": [],
   "source": [
    "with open('input.txt', 'r') as f:\n",
    "    input_ = f.read().strip()"
   ]
  },
  {
   "cell_type": "markdown",
   "id": "533d4b56",
   "metadata": {},
   "source": [
    "# Part 1"
   ]
  },
  {
   "cell_type": "code",
   "execution_count": 10,
   "id": "2b25dfa5",
   "metadata": {},
   "outputs": [
    {
     "data": {
      "text/plain": [
       "array([10, 13, 16, 21, 30, 45])"
      ]
     },
     "execution_count": 10,
     "metadata": {},
     "output_type": "execute_result"
    }
   ],
   "source": [
    "row = '10 13 16 21 30 45'\n",
    "x = np.array([int(x) for x in row.split()])\n",
    "x"
   ]
  },
  {
   "cell_type": "code",
   "execution_count": 34,
   "id": "c2ea8660",
   "metadata": {},
   "outputs": [],
   "source": [
    "def predict_next(x):\n",
    "    y = x.copy()\n",
    "    seq = [y]\n",
    "    while not np.all(y == 0):\n",
    "        y = np.diff(y)\n",
    "        seq.append(y)\n",
    "\n",
    "    inc = 0\n",
    "    for y in seq[::-1]:\n",
    "        inc = y[-1] + inc\n",
    "    return inc"
   ]
  },
  {
   "cell_type": "code",
   "execution_count": 36,
   "id": "1d4d70b6",
   "metadata": {},
   "outputs": [
    {
     "data": {
      "text/plain": [
       "114"
      ]
     },
     "execution_count": 36,
     "metadata": {},
     "output_type": "execute_result"
    }
   ],
   "source": [
    "tot = 0\n",
    "for row in test.splitlines():\n",
    "    x = np.array([int(x) for x in row.split()])\n",
    "    tot += predict_next(x)\n",
    "tot"
   ]
  },
  {
   "cell_type": "code",
   "execution_count": 37,
   "id": "712f7c76",
   "metadata": {},
   "outputs": [
    {
     "data": {
      "text/plain": [
       "1939607039"
      ]
     },
     "execution_count": 37,
     "metadata": {},
     "output_type": "execute_result"
    }
   ],
   "source": [
    "tot = 0\n",
    "for row in input_.splitlines():\n",
    "    x = np.array([int(x) for x in row.split()])\n",
    "    tot += predict_next(x)\n",
    "tot"
   ]
  },
  {
   "cell_type": "code",
   "execution_count": null,
   "id": "28d7e088",
   "metadata": {},
   "outputs": [],
   "source": []
  },
  {
   "cell_type": "code",
   "execution_count": null,
   "id": "817ba812",
   "metadata": {},
   "outputs": [],
   "source": []
  },
  {
   "cell_type": "markdown",
   "id": "984acafe",
   "metadata": {},
   "source": [
    "# Part 2"
   ]
  },
  {
   "cell_type": "code",
   "execution_count": 43,
   "id": "d6d7e2f5",
   "metadata": {},
   "outputs": [],
   "source": [
    "def predict_prev(x):\n",
    "    y = x.copy()\n",
    "    seq = [y]\n",
    "    while not np.all(y == 0):\n",
    "        y = np.diff(y)\n",
    "        seq.append(y)\n",
    "\n",
    "    inc = 0\n",
    "    for y in seq[::-1]:\n",
    "        inc = y[0] - inc\n",
    "    return inc"
   ]
  },
  {
   "cell_type": "code",
   "execution_count": 44,
   "id": "c41e0180",
   "metadata": {},
   "outputs": [
    {
     "data": {
      "text/plain": [
       "2"
      ]
     },
     "execution_count": 44,
     "metadata": {},
     "output_type": "execute_result"
    }
   ],
   "source": [
    "tot = 0\n",
    "for row in test.splitlines():\n",
    "    x = np.array([int(x) for x in row.split()])\n",
    "    tot += predict_prev(x)\n",
    "tot"
   ]
  },
  {
   "cell_type": "code",
   "execution_count": 45,
   "id": "19522bab",
   "metadata": {},
   "outputs": [
    {
     "data": {
      "text/plain": [
       "1041"
      ]
     },
     "execution_count": 45,
     "metadata": {},
     "output_type": "execute_result"
    }
   ],
   "source": [
    "tot = 0\n",
    "for row in input_.splitlines():\n",
    "    x = np.array([int(x) for x in row.split()])\n",
    "    tot += predict_prev(x)\n",
    "tot"
   ]
  },
  {
   "cell_type": "code",
   "execution_count": null,
   "id": "ab1eb49c",
   "metadata": {},
   "outputs": [],
   "source": []
  }
 ],
 "metadata": {
  "hide_input": false,
  "kernelspec": {
   "display_name": "Python 3 (ipykernel)",
   "language": "python",
   "name": "python3"
  },
  "language_info": {
   "codemirror_mode": {
    "name": "ipython",
    "version": 3
   },
   "file_extension": ".py",
   "mimetype": "text/x-python",
   "name": "python",
   "nbconvert_exporter": "python",
   "pygments_lexer": "ipython3",
   "version": "3.11.3"
  },
  "toc": {
   "nav_menu": {
    "height": "12px",
    "width": "252px"
   },
   "navigate_menu": true,
   "number_sections": true,
   "sideBar": true,
   "threshold": 4,
   "toc_cell": false,
   "toc_section_display": "block",
   "toc_window_display": false
  }
 },
 "nbformat": 4,
 "nbformat_minor": 5
}
