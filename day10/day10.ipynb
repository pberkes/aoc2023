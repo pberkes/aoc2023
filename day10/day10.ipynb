{
 "cells": [
  {
   "cell_type": "code",
   "execution_count": 1,
   "id": "6a0bf45e",
   "metadata": {
    "ExecuteTime": {
     "end_time": "2022-12-02T05:18:22.341580Z",
     "start_time": "2022-12-02T05:18:21.400288Z"
    }
   },
   "outputs": [],
   "source": [
    "%matplotlib inline\n",
    "\n",
    "import matplotlib.pyplot as plt\n",
    "import networkx as nx\n",
    "import numpy as np\n",
    "\n",
    "def print_map(map_):\n",
    "    for row in map_:\n",
    "        print(''.join(row))\n",
    "        \n",
    "def input_to_np_map(input_):\n",
    "    rows = input_.splitlines()\n",
    "    map_ = np.array([list(r) for r in rows])\n",
    "    return map_"
   ]
  },
  {
   "cell_type": "code",
   "execution_count": 2,
   "id": "5b1cb3ac",
   "metadata": {},
   "outputs": [],
   "source": [
    "test = \"\"\"\n",
    "..F7.\n",
    ".FJ|.\n",
    "SJ.L7\n",
    "|F--J\n",
    "LJ...\n",
    "\"\"\".strip()"
   ]
  },
  {
   "cell_type": "code",
   "execution_count": 3,
   "id": "e63b6ffe",
   "metadata": {
    "ExecuteTime": {
     "end_time": "2022-12-02T05:18:39.902760Z",
     "start_time": "2022-12-02T05:18:39.354573Z"
    }
   },
   "outputs": [],
   "source": [
    "with open('input.txt', 'r') as f:\n",
    "    input_ = f.read().strip()"
   ]
  },
  {
   "cell_type": "markdown",
   "id": "533d4b56",
   "metadata": {},
   "source": [
    "# Part 1"
   ]
  },
  {
   "cell_type": "raw",
   "id": "9957ba52",
   "metadata": {},
   "source": [
    "| is a vertical pipe connecting north and south.\n",
    "- is a horizontal pipe connecting east and west.\n",
    "L is a 90-degree bend connecting north and east.\n",
    "J is a 90-degree bend connecting north and west.\n",
    "7 is a 90-degree bend connecting south and west.\n",
    "F is a 90-degree bend connecting south and east.\n",
    ". is ground; there is no pipe in this tile.\n",
    "S is the starting position of the animal; there is a pipe on this tile, but your sketch doesn't show what shape the pipe has."
   ]
  },
  {
   "cell_type": "code",
   "execution_count": 4,
   "id": "c391edeb",
   "metadata": {},
   "outputs": [],
   "source": [
    "def connect_north(g, row_idx, col_idx, h, w):\n",
    "    if row_idx-1 >= 0:\n",
    "        g.add_edge((row_idx, col_idx), (row_idx-1, col_idx))\n",
    "\n",
    "\n",
    "def connect_south(g, row_idx, col_idx, h, w):\n",
    "    if row_idx+1 < h:\n",
    "        g.add_edge((row_idx, col_idx), (row_idx+1, col_idx))\n",
    "\n",
    "\n",
    "def connect_west(g, row_idx, col_idx, h, w):\n",
    "    if col_idx-1 >= 0:\n",
    "        g.add_edge((row_idx, col_idx), (row_idx, col_idx-1))\n",
    "\n",
    "\n",
    "def connect_east(g, row_idx, col_idx, h, w):\n",
    "     if col_idx+1 < w:\n",
    "        g.add_edge((row_idx, col_idx), (row_idx, col_idx+1))   \n",
    "\n",
    "\n",
    "char_to_dirs = {\n",
    "    '|': (connect_north, connect_south),\n",
    "    '-': (connect_east, connect_west),\n",
    "    'L': (connect_north, connect_east),\n",
    "    'J': (connect_north, connect_west),\n",
    "    '7': (connect_south, connect_west),\n",
    "    'F': (connect_south, connect_east),\n",
    "}"
   ]
  },
  {
   "cell_type": "code",
   "execution_count": 5,
   "id": "06806039",
   "metadata": {},
   "outputs": [],
   "source": [
    "def build_graph(rows):\n",
    "    g = nx.DiGraph()\n",
    "    h = len(rows)\n",
    "    w = len(rows[0])\n",
    "    for row_idx in range(h):\n",
    "        for col_idx in range(w):\n",
    "            g.add_node((row_idx, col_idx))          \n",
    "\n",
    "    starting_pos = None\n",
    "    row_idx = 0\n",
    "    for row_idx, row in enumerate(rows):\n",
    "        for col_idx, x in enumerate(row):\n",
    "            pos = (row_idx, col_idx)\n",
    "            # Create node in graph\n",
    "            n = g.add_node(pos)\n",
    "            # Create edges in graph\n",
    "            dirs = char_to_dirs.get(x, None)\n",
    "            if dirs is not None:\n",
    "                dirs[0](g, row_idx, col_idx, h, w)\n",
    "                dirs[1](g, row_idx, col_idx, h, w)\n",
    "            elif x == 'S':\n",
    "                starting_pos = pos\n",
    "    \n",
    "    return g, starting_pos"
   ]
  },
  {
   "cell_type": "code",
   "execution_count": 6,
   "id": "59f2a07e",
   "metadata": {},
   "outputs": [],
   "source": [
    "test = \"\"\"\n",
    "7-F7-\n",
    ".FJ|7\n",
    "SJLL7\n",
    "|F--J\n",
    "LJ.LJ\n",
    "\"\"\".strip()"
   ]
  },
  {
   "cell_type": "code",
   "execution_count": 7,
   "id": "294593e8",
   "metadata": {},
   "outputs": [
    {
     "data": {
      "text/plain": [
       "8"
      ]
     },
     "execution_count": 7,
     "metadata": {},
     "output_type": "execute_result"
    }
   ],
   "source": [
    "rows = test.splitlines()\n",
    "g, starting_pos = build_graph(rows)\n",
    "gr = g.reverse()\n",
    "for e in gr.edges(starting_pos):\n",
    "    g.add_edge(e[0], e[1])\n",
    "\n",
    "len(list(nx.dfs_edges(g, starting_pos))) // 2 + 1"
   ]
  },
  {
   "cell_type": "code",
   "execution_count": 8,
   "id": "6dc787e3",
   "metadata": {},
   "outputs": [
    {
     "data": {
      "text/plain": [
       "6856"
      ]
     },
     "execution_count": 8,
     "metadata": {},
     "output_type": "execute_result"
    }
   ],
   "source": [
    "rows = input_.splitlines()\n",
    "g, starting_pos = build_graph(rows)\n",
    "gr = g.reverse()\n",
    "for e in gr.edges(starting_pos):\n",
    "    g.add_edge(e[0], e[1])\n",
    "\n",
    "len(list(nx.dfs_edges(g, starting_pos))) // 2 + 1"
   ]
  },
  {
   "cell_type": "markdown",
   "id": "984acafe",
   "metadata": {},
   "source": [
    "# Part 2"
   ]
  },
  {
   "cell_type": "code",
   "execution_count": 9,
   "id": "57cc47aa",
   "metadata": {},
   "outputs": [],
   "source": [
    "test = \"\"\"\n",
    "..........\n",
    ".S------7.\n",
    ".|F----7|.\n",
    ".||OOOO||.\n",
    ".||OOOO||.\n",
    ".|L-7F-J|.\n",
    ".|II||II|.\n",
    ".L--JL--J.\n",
    "..........\n",
    "\"\"\".strip()"
   ]
  },
  {
   "cell_type": "code",
   "execution_count": 10,
   "id": "390da236",
   "metadata": {},
   "outputs": [],
   "source": [
    "test2 = \"\"\"\n",
    ".F----7F7F7F7F-7....\n",
    ".|F--7||||||||FJ....\n",
    ".||.FJ||||||||L7....\n",
    "FJL7L7LJLJ||LJ.L-7..\n",
    "L--J.L7...LJS7F-7L7.\n",
    "....F-J..F7FJ|L7L7L7\n",
    "....L7.F7||L7|.L7L7|\n",
    ".....|FJLJ|FJ|F7|.LJ\n",
    "....FJL-7.||.||||...\n",
    "....L---J.LJ.LJLJ...\n",
    "\"\"\".strip()"
   ]
  },
  {
   "cell_type": "code",
   "execution_count": 11,
   "id": "5f6848a0",
   "metadata": {},
   "outputs": [],
   "source": [
    "test3 = \"\"\"\n",
    "FF7FSF7F7F7F7F7F---7\n",
    "L|LJ||||||||||||F--J\n",
    "FL-7LJLJ||||||LJL-77\n",
    "F--JF--7||LJLJ7F7FJ-\n",
    "L---JF-JLJ.||-FJLJJ7\n",
    "|F|F-JF---7F7-L7L|7|\n",
    "|FFJF7L7F-JF7|JL---7\n",
    "7-L-JL7||F7|L7F-7F7|\n",
    "L.L7LFJ|||||FJL7||LJ\n",
    "L7JLJL-JLJLJL--JLJ.L\n",
    "\"\"\".strip()"
   ]
  },
  {
   "cell_type": "code",
   "execution_count": 39,
   "id": "2e07d58d",
   "metadata": {},
   "outputs": [],
   "source": [
    "inp = test3"
   ]
  },
  {
   "cell_type": "code",
   "execution_count": 40,
   "id": "dae2090d",
   "metadata": {},
   "outputs": [],
   "source": [
    "inp_map = input_to_np_map(inp)\n",
    "rows = inp.splitlines()\n",
    "h = len(rows)\n",
    "w = len(rows[0])\n",
    "\n",
    "g, starting_pos = build_graph(rows)\n",
    "gr = g.reverse()\n",
    "for e in gr.edges(starting_pos):\n",
    "    g.add_edge(e[0], e[1])\n",
    "\n",
    "loop = list(nx.dfs_edges(g, starting_pos))\n",
    "loop = [l[0] for l in loop] + [loop[-1][1]]"
   ]
  },
  {
   "cell_type": "code",
   "execution_count": 41,
   "id": "5ef7d9d5",
   "metadata": {},
   "outputs": [
    {
     "name": "stdout",
     "output_type": "stream",
     "text": [
      "FF7FSF7F7F7F7F7F---7\n",
      "L|LJ||||||||||||F--J\n",
      "FL-7LJLJ||||||LJL-77\n",
      "F--JF--7||LJLJ7F7FJ-\n",
      "L---JF-JLJ.||-FJLJJ7\n",
      "|F|F-JF---7F7-L7L|7|\n",
      "|FFJF7L7F-JF7|JL---7\n",
      "7-L-JL7||F7|L7F-7F7|\n",
      "L.L7LFJ|||||FJL7||LJ\n",
      "L7JLJL-JLJLJL--JLJ.L\n"
     ]
    }
   ],
   "source": [
    "print_map(inp_map)"
   ]
  },
  {
   "cell_type": "markdown",
   "id": "e0933b30",
   "metadata": {},
   "source": [
    "# Find connected components for \"empty\" tiles (not in loop)"
   ]
  },
  {
   "cell_type": "code",
   "execution_count": 42,
   "id": "7ff0aa35",
   "metadata": {
    "scrolled": true
   },
   "outputs": [
    {
     "name": "stdout",
     "output_type": "stream",
     "text": [
      ".###################\n",
      ".###################\n",
      ".##################.\n",
      "##############.####.\n",
      "##########....####..\n",
      "...########...##....\n",
      "..###########..#####\n",
      "..##################\n",
      ".....###############\n",
      ".....#############..\n"
     ]
    }
   ],
   "source": [
    "map_ = np.full((h, w), '.', dtype=str)\n",
    "for x in loop:\n",
    "    map_[x[0], x[1]] = '#'\n",
    "print_map(map_)"
   ]
  },
  {
   "cell_type": "code",
   "execution_count": 43,
   "id": "32a89927",
   "metadata": {},
   "outputs": [],
   "source": [
    "m = nx.Graph()\n",
    "for r in range(h):\n",
    "    for c in range(w):\n",
    "        if (r, c) not in loop:\n",
    "            m.add_node((r, c)) \n",
    "\n",
    "for r in range(h):\n",
    "    for c in range(w):\n",
    "        if (r, c) not in loop:\n",
    "            if (c+1 < w) and ((r, c+1) not in loop):\n",
    "                m.add_edge((r, c), (r, c+1))\n",
    "            if (r+1 < h) and ((r+1, c) not in loop):\n",
    "                m.add_edge((r, c), (r+1, c))\n"
   ]
  },
  {
   "cell_type": "code",
   "execution_count": 44,
   "id": "02ead073",
   "metadata": {},
   "outputs": [],
   "source": [
    "components = {}\n",
    "comp_size = {}\n",
    "assignment = {}\n",
    "\n",
    "for idx, comp in enumerate(nx.connected_components(m)):\n",
    "    for node in comp:\n",
    "        components[node] = idx\n",
    "    comp_size[idx] = len(comp)\n",
    "    assignment[idx] = '?'"
   ]
  },
  {
   "cell_type": "markdown",
   "id": "0628f012",
   "metadata": {},
   "source": [
    "# Go around the loop and mark tiles to left and right of path"
   ]
  },
  {
   "cell_type": "code",
   "execution_count": 45,
   "id": "30119486",
   "metadata": {},
   "outputs": [],
   "source": [
    "diffs_to_left = {\n",
    "    ((0, 1), '-'): [(-1, 0)],\n",
    "    ((0, 1), 'S'): [(-1, 0)],\n",
    "    ((0, 1), 'F'): [(-1, 0), (-1, -1), (-1, -2)],\n",
    "    ((0, 1), 'L'): [(-1, 0)],\n",
    "    ((0, -1), '-'): [(1, 0)],\n",
    "    ((0, -1), 'S'): [(1, 0)],\n",
    "    ((0, -1), '7'): [(1, 0)],\n",
    "    ((0, -1), 'J'): [(1, 0), (1, 1), (1, 2)],\n",
    "    ((1, 0), '|'): [(0, 1)],\n",
    "    ((1, 0), 'S'): [(0, 1)],\n",
    "    ((1, 0), '7'): [(0, 1), (-1, 1), (-2, 1)],\n",
    "    ((1, 0), 'F'): [(0, 1)],\n",
    "    ((-1, 0), '|'): [(0, -1)],\n",
    "    ((-1, 0), 'S'): [(0, -1)],\n",
    "    ((-1, 0), 'J'): [(0, -1)],\n",
    "    ((-1, 0), 'L'): [(0, -1), (1, -1), (2, -1)]\n",
    "}\n",
    "\n",
    "\n",
    "diffs_to_right = {\n",
    "    ((0, 1), '-'): [(1, 0)],\n",
    "    ((0, 1), 'S'): [(1, 0)],\n",
    "    ((0, 1), 'F'): [(1, 0)],\n",
    "    ((0, 1), 'L'): [(1, 0), (1, -1), (1, -2)],\n",
    "    ((0, -1), '-'): [(-1, 0)],\n",
    "    ((0, -1), 'S'): [(-1, 0)],\n",
    "    ((0, -1), '7'): [(-1, 0), (-1, 1), (-1, 2)],\n",
    "    ((0, -1), 'J'): [(-1, 0)],\n",
    "    ((1, 0), '|'): [(0, -1)],\n",
    "    ((1, 0), 'S'): [(0, -1)],\n",
    "    ((1, 0), '7'): [(0, -1)],\n",
    "    ((1, 0), 'F'): [(0, -1), (-1, -1), (-2, -1)],\n",
    "    ((-1, 0), '|'): [(0, 1)],\n",
    "    ((-1, 0), 'S'): [(0, 1)],\n",
    "    ((-1, 0), 'J'): [(0, 1), (1, 1), (2, 1)],\n",
    "    ((-1, 0), 'L'): [(0, 1)]\n",
    "}"
   ]
  },
  {
   "cell_type": "code",
   "execution_count": 46,
   "id": "5b2b9f5a",
   "metadata": {},
   "outputs": [],
   "source": [
    "for idx in range(1, len(loop)):\n",
    "    prev = loop[idx - 1]\n",
    "    curr = loop[idx]\n",
    "    diff = (curr[0] - prev[0], curr[1] - prev[1])\n",
    "\n",
    "    piece = inp_map[prev[0], prev[1]]\n",
    "    dlefts = diffs_to_left[(diff, piece)]\n",
    "    for dleft in dlefts:\n",
    "        left = (curr[0] + dleft[0], curr[1] + dleft[1])\n",
    "        if (0 <= left[0] < h) and (0 <= left[1] < w):\n",
    "            if map_[left[0], left[1]] != '#':\n",
    "                map_[left[0], left[1]] = 'L'\n",
    "                comp_idx = components[(left[0], left[1])]\n",
    "                assignment[comp_idx] = 'L'\n",
    "    \n",
    "    drights = diffs_to_right[(diff, piece)]\n",
    "    for dright in drights:\n",
    "        right = (curr[0] + dright[0], curr[1] + dright[1])\n",
    "        if (0 <= right[0] < h) and (0 <= right[1] < w):\n",
    "            if map_[right[0], right[1]] != '#':\n",
    "                map_[right[0], right[1]] = 'R'\n",
    "                comp_idx = components[(right[0], right[1])]\n",
    "                assignment[comp_idx] = 'R'\n",
    "    "
   ]
  },
  {
   "cell_type": "code",
   "execution_count": 47,
   "id": "578b2215",
   "metadata": {},
   "outputs": [
    {
     "name": "stdout",
     "output_type": "stream",
     "text": [
      "R###################\n",
      "R###################\n",
      "R##################R\n",
      "##############L####R\n",
      "##########LLLL####RR\n",
      "RRR########LLL##RRRR\n",
      ".R###########LL#####\n",
      ".R##################\n",
      ".RRRR###############\n",
      "....R#############RR\n"
     ]
    }
   ],
   "source": [
    "print_map(map_[:,:60])"
   ]
  },
  {
   "cell_type": "markdown",
   "id": "0e478779",
   "metadata": {},
   "source": [
    "# Propagate label to connected component"
   ]
  },
  {
   "cell_type": "code",
   "execution_count": 48,
   "id": "4914cb86",
   "metadata": {},
   "outputs": [],
   "source": [
    "for r in range(h):\n",
    "    for c in range(w):\n",
    "        if (r, c) not in loop:\n",
    "            comp_idx = components[(r, c)]\n",
    "            map_[r, c] = assignment[comp_idx]"
   ]
  },
  {
   "cell_type": "code",
   "execution_count": 49,
   "id": "369c0c67",
   "metadata": {},
   "outputs": [
    {
     "name": "stdout",
     "output_type": "stream",
     "text": [
      "R###################\n",
      "R###################\n",
      "R##################R\n",
      "##############L####R\n",
      "##########LLLL####RR\n",
      "RRR########LLL##RRRR\n",
      "RR###########LL#####\n",
      "RR##################\n",
      "RRRRR###############\n",
      "RRRRR#############RR\n"
     ]
    }
   ],
   "source": [
    "print_map(map_[:,:60])"
   ]
  },
  {
   "cell_type": "markdown",
   "id": "048ac882",
   "metadata": {},
   "source": [
    "# Compute total"
   ]
  },
  {
   "cell_type": "code",
   "execution_count": 50,
   "id": "63535074",
   "metadata": {},
   "outputs": [
    {
     "data": {
      "text/plain": [
       "{'R': 30, 'L': 10, '?': 0}"
      ]
     },
     "execution_count": 50,
     "metadata": {},
     "output_type": "execute_result"
    }
   ],
   "source": [
    "tot = {'R': 0, 'L': 0, '?': 0}\n",
    "for idx in assignment.keys():\n",
    "    a = assignment[idx]\n",
    "    tot[a] += comp_size[idx]\n",
    "tot"
   ]
  },
  {
   "cell_type": "code",
   "execution_count": null,
   "id": "e315d2ce",
   "metadata": {},
   "outputs": [],
   "source": []
  },
  {
   "cell_type": "code",
   "execution_count": null,
   "id": "8a1a6a41",
   "metadata": {},
   "outputs": [],
   "source": []
  }
 ],
 "metadata": {
  "hide_input": false,
  "kernelspec": {
   "display_name": "Python 3 (ipykernel)",
   "language": "python",
   "name": "python3"
  },
  "language_info": {
   "codemirror_mode": {
    "name": "ipython",
    "version": 3
   },
   "file_extension": ".py",
   "mimetype": "text/x-python",
   "name": "python",
   "nbconvert_exporter": "python",
   "pygments_lexer": "ipython3",
   "version": "3.11.3"
  },
  "toc": {
   "nav_menu": {
    "height": "12px",
    "width": "252px"
   },
   "navigate_menu": true,
   "number_sections": true,
   "sideBar": true,
   "threshold": 4,
   "toc_cell": false,
   "toc_section_display": "block",
   "toc_window_display": false
  }
 },
 "nbformat": 4,
 "nbformat_minor": 5
}
