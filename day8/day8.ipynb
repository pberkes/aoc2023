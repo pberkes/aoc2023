{
 "cells": [
  {
   "cell_type": "code",
   "execution_count": 1,
   "id": "6a0bf45e",
   "metadata": {
    "ExecuteTime": {
     "end_time": "2022-12-02T05:18:22.341580Z",
     "start_time": "2022-12-02T05:18:21.400288Z"
    }
   },
   "outputs": [],
   "source": [
    "%matplotlib inline\n",
    "\n",
    "import matplotlib.pyplot as plt\n",
    "import numpy as np"
   ]
  },
  {
   "cell_type": "code",
   "execution_count": 2,
   "id": "5b1cb3ac",
   "metadata": {},
   "outputs": [],
   "source": [
    "test = \"\"\"\n",
    "RL\n",
    "\n",
    "AAA = (BBB, CCC)\n",
    "BBB = (DDD, EEE)\n",
    "CCC = (ZZZ, GGG)\n",
    "DDD = (DDD, DDD)\n",
    "EEE = (EEE, EEE)\n",
    "GGG = (GGG, GGG)\n",
    "ZZZ = (ZZZ, ZZZ)\n",
    "\"\"\".strip()"
   ]
  },
  {
   "cell_type": "code",
   "execution_count": 3,
   "id": "13759bec",
   "metadata": {},
   "outputs": [],
   "source": [
    "test2 = \"\"\"\n",
    "LLR\n",
    "\n",
    "AAA = (BBB, BBB)\n",
    "BBB = (AAA, ZZZ)\n",
    "ZZZ = (ZZZ, ZZZ)\n",
    "\"\"\".strip()"
   ]
  },
  {
   "cell_type": "code",
   "execution_count": 5,
   "id": "e63b6ffe",
   "metadata": {
    "ExecuteTime": {
     "end_time": "2022-12-02T05:18:39.902760Z",
     "start_time": "2022-12-02T05:18:39.354573Z"
    }
   },
   "outputs": [],
   "source": [
    "with open('input.txt', 'r') as f:\n",
    "    input_ = f.read().strip()"
   ]
  },
  {
   "cell_type": "markdown",
   "id": "533d4b56",
   "metadata": {},
   "source": [
    "# Part 1"
   ]
  },
  {
   "cell_type": "code",
   "execution_count": 28,
   "id": "48e73362",
   "metadata": {},
   "outputs": [],
   "source": [
    "pattern_to_idx = {'L': 0, 'R': 1}\n",
    "\n",
    "def parse_input(input_):\n",
    "    rows = input_.splitlines()\n",
    "\n",
    "    pattern = [pattern_to_idx[x] for x in rows[0]]\n",
    "    moves = {}\n",
    "    for row in rows[2:]:\n",
    "        pos, lr = row.split('=')\n",
    "        l, r = lr[2:-1].split(',')\n",
    "        moves[pos.strip()] = (l.strip(), r.strip())\n",
    "\n",
    "    return pattern, moves\n",
    "\n",
    "def execute(pattern, moves):\n",
    "    n = 0\n",
    "    idx = 0\n",
    "    pos = 'AAA'\n",
    "    while pos != 'ZZZ':\n",
    "        n += 1\n",
    "        pos = moves[pos][pattern[idx]]\n",
    "        idx = (idx + 1) % len(pattern)\n",
    "    return n\n"
   ]
  },
  {
   "cell_type": "code",
   "execution_count": 23,
   "id": "e68e67d7",
   "metadata": {},
   "outputs": [
    {
     "data": {
      "text/plain": [
       "[1, 0]"
      ]
     },
     "execution_count": 23,
     "metadata": {},
     "output_type": "execute_result"
    }
   ],
   "source": [
    "pattern"
   ]
  },
  {
   "cell_type": "code",
   "execution_count": 29,
   "id": "2b25dfa5",
   "metadata": {},
   "outputs": [
    {
     "data": {
      "text/plain": [
       "2"
      ]
     },
     "execution_count": 29,
     "metadata": {},
     "output_type": "execute_result"
    }
   ],
   "source": [
    "pattern, moves = parse_input(test)\n",
    "execute(pattern, moves)"
   ]
  },
  {
   "cell_type": "code",
   "execution_count": 27,
   "id": "c2ea8660",
   "metadata": {},
   "outputs": [
    {
     "name": "stdout",
     "output_type": "stream",
     "text": [
      "0 AAA\n",
      "1 BBB\n",
      "2 AAA\n",
      "0 BBB\n",
      "1 AAA\n",
      "2 BBB\n"
     ]
    },
    {
     "data": {
      "text/plain": [
       "6"
      ]
     },
     "execution_count": 27,
     "metadata": {},
     "output_type": "execute_result"
    }
   ],
   "source": [
    "pattern, moves = parse_input(test2)\n",
    "execute(pattern, moves)"
   ]
  },
  {
   "cell_type": "code",
   "execution_count": 30,
   "id": "1d4d70b6",
   "metadata": {},
   "outputs": [
    {
     "data": {
      "text/plain": [
       "20659"
      ]
     },
     "execution_count": 30,
     "metadata": {},
     "output_type": "execute_result"
    }
   ],
   "source": [
    "pattern, moves = parse_input(input_)\n",
    "execute(pattern, moves)"
   ]
  },
  {
   "cell_type": "code",
   "execution_count": null,
   "id": "712f7c76",
   "metadata": {},
   "outputs": [],
   "source": []
  },
  {
   "cell_type": "markdown",
   "id": "984acafe",
   "metadata": {},
   "source": [
    "# Part 2"
   ]
  },
  {
   "cell_type": "code",
   "execution_count": 31,
   "id": "d6d7e2f5",
   "metadata": {},
   "outputs": [],
   "source": [
    "test = \"\"\"\n",
    "LR\n",
    "\n",
    "11A = (11B, XXX)\n",
    "11B = (XXX, 11Z)\n",
    "11Z = (11B, XXX)\n",
    "22A = (22B, XXX)\n",
    "22B = (22C, 22C)\n",
    "22C = (22Z, 22Z)\n",
    "22Z = (22B, 22B)\n",
    "XXX = (XXX, XXX)\n",
    "\"\"\".strip()"
   ]
  },
  {
   "cell_type": "code",
   "execution_count": 62,
   "id": "8b9043e0",
   "metadata": {},
   "outputs": [],
   "source": [
    "def execute(pattern, moves, start_pos):\n",
    "    n = 0\n",
    "    idx = 0\n",
    "    pos = start_pos\n",
    "    while pos[-1] != 'Z':\n",
    "        n += 1\n",
    "        pos = moves[pos][pattern[idx]]\n",
    "        idx = (idx + 1) % len(pattern)\n",
    "    return n\n"
   ]
  },
  {
   "cell_type": "code",
   "execution_count": 63,
   "id": "67a7cf7f",
   "metadata": {},
   "outputs": [],
   "source": [
    "pattern, moves = parse_input(test)"
   ]
  },
  {
   "cell_type": "code",
   "execution_count": 64,
   "id": "ee1c83dd",
   "metadata": {},
   "outputs": [
    {
     "data": {
      "text/plain": [
       "['11A', '22A']"
      ]
     },
     "execution_count": 64,
     "metadata": {},
     "output_type": "execute_result"
    }
   ],
   "source": [
    "start_poss = [pos for pos in moves.keys() if pos[-1] == 'A']\n",
    "start_poss"
   ]
  },
  {
   "cell_type": "code",
   "execution_count": 66,
   "id": "2316254d",
   "metadata": {},
   "outputs": [
    {
     "data": {
      "text/plain": [
       "[2, 3]"
      ]
     },
     "execution_count": 66,
     "metadata": {},
     "output_type": "execute_result"
    }
   ],
   "source": [
    "ns = [execute(pattern, moves, start_pos) for start_pos in start_poss]\n",
    "ns"
   ]
  },
  {
   "cell_type": "code",
   "execution_count": 67,
   "id": "c5a5796c",
   "metadata": {},
   "outputs": [
    {
     "data": {
      "text/plain": [
       "['QKA', 'VMA', 'AAA', 'RKA', 'LBA', 'JMA']"
      ]
     },
     "execution_count": 67,
     "metadata": {},
     "output_type": "execute_result"
    }
   ],
   "source": [
    "pattern, moves = parse_input(input_)\n",
    "start_poss = [pos for pos in moves.keys() if pos[-1] == 'A']\n",
    "start_poss"
   ]
  },
  {
   "cell_type": "code",
   "execution_count": 68,
   "id": "a10af3c0",
   "metadata": {},
   "outputs": [
    {
     "data": {
      "text/plain": [
       "[12169, 20093, 20659, 22357, 13301, 18961]"
      ]
     },
     "execution_count": 68,
     "metadata": {},
     "output_type": "execute_result"
    }
   ],
   "source": [
    "ns = [execute(pattern, moves, start_pos) for start_pos in start_poss]\n",
    "ns"
   ]
  },
  {
   "cell_type": "code",
   "execution_count": 74,
   "id": "6e5e6e27",
   "metadata": {},
   "outputs": [
    {
     "data": {
      "text/plain": [
       "15690466351717"
      ]
     },
     "execution_count": 74,
     "metadata": {},
     "output_type": "execute_result"
    }
   ],
   "source": [
    "from math import lcm\n",
    "lcm(*ns)"
   ]
  },
  {
   "cell_type": "code",
   "execution_count": null,
   "id": "cacd4e19",
   "metadata": {},
   "outputs": [],
   "source": []
  }
 ],
 "metadata": {
  "hide_input": false,
  "kernelspec": {
   "display_name": "Python 3 (ipykernel)",
   "language": "python",
   "name": "python3"
  },
  "language_info": {
   "codemirror_mode": {
    "name": "ipython",
    "version": 3
   },
   "file_extension": ".py",
   "mimetype": "text/x-python",
   "name": "python",
   "nbconvert_exporter": "python",
   "pygments_lexer": "ipython3",
   "version": "3.11.3"
  },
  "toc": {
   "nav_menu": {
    "height": "12px",
    "width": "252px"
   },
   "navigate_menu": true,
   "number_sections": true,
   "sideBar": true,
   "threshold": 4,
   "toc_cell": false,
   "toc_section_display": "block",
   "toc_window_display": false
  }
 },
 "nbformat": 4,
 "nbformat_minor": 5
}
